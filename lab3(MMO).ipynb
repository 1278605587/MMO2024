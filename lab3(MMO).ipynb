{
 "nbformat": 4,
 "nbformat_minor": 0,
 "metadata": {
  "colab": {
   "name": "lab3(MMO).ipynb",
   "provenance": [],
   "collapsed_sections": [],
   "mount_file_id": "1W6Vh_BHIUq0ApJzLtD3jpgJNdbD9SMn5",
   "authorship_tag": "ABX9TyPHVQKzg7Jsv2+YLuH5wrqd"
  },
  "kernelspec": {
   "name": "python3",
   "display_name": "Python 3"
  },
  "language_info": {
   "name": "python"
  },
  "accelerator": "GPU"
 },
 "cells": [
  {
   "cell_type": "code",
   "metadata": {
    "id": "LJn066uzYYQ-",
    "colab": {
     "base_uri": "https://localhost:8080/",
     "height": 204
    },
    "executionInfo": {
     "status": "ok",
     "timestamp": 1621878338458,
     "user_tz": -180,
     "elapsed": 506,
     "user": {
      "displayName": "丁诺",
      "photoUrl": "",
      "userId": "16957255556963902479"
     }
    },
    "outputId": "d7f2adfb-2ff4-456b-c938-db6632592de6",
    "pycharm": {
     "name": "#%%\n"
    }
   },
   "source": [
    "import numpy as np\n",
    "import pandas as pd\n",
    "import matplotlib.pyplot as plt\n",
    "import seaborn as sns\n",
    "\n",
    "data=pd.read_csv(\"drive/MyDrive/healthcare-dataset-stroke-data.csv\",encoding='utf-8')\n",
    "data.head()"
   ],
   "execution_count": 13,
   "outputs": [
    {
     "output_type": "execute_result",
     "data": {
      "text/html": [
       "<div>\n",
       "<style scoped>\n",
       "    .dataframe tbody tr th:only-of-type {\n",
       "        vertical-align: middle;\n",
       "    }\n",
       "\n",
       "    .dataframe tbody tr th {\n",
       "        vertical-align: top;\n",
       "    }\n",
       "\n",
       "    .dataframe thead th {\n",
       "        text-align: right;\n",
       "    }\n",
       "</style>\n",
       "<table border=\"1\" class=\"dataframe\">\n",
       "  <thead>\n",
       "    <tr style=\"text-align: right;\">\n",
       "      <th></th>\n",
       "      <th>id</th>\n",
       "      <th>gender</th>\n",
       "      <th>age</th>\n",
       "      <th>hypertension</th>\n",
       "      <th>heart_disease</th>\n",
       "      <th>ever_married</th>\n",
       "      <th>work_type</th>\n",
       "      <th>Residence_type</th>\n",
       "      <th>avg_glucose_level</th>\n",
       "      <th>bmi</th>\n",
       "      <th>smoking_status</th>\n",
       "      <th>stroke</th>\n",
       "    </tr>\n",
       "  </thead>\n",
       "  <tbody>\n",
       "    <tr>\n",
       "      <th>0</th>\n",
       "      <td>9046</td>\n",
       "      <td>Male</td>\n",
       "      <td>67.0</td>\n",
       "      <td>0</td>\n",
       "      <td>1</td>\n",
       "      <td>Yes</td>\n",
       "      <td>Private</td>\n",
       "      <td>Urban</td>\n",
       "      <td>228.69</td>\n",
       "      <td>36.6</td>\n",
       "      <td>formerly smoked</td>\n",
       "      <td>1</td>\n",
       "    </tr>\n",
       "    <tr>\n",
       "      <th>1</th>\n",
       "      <td>51676</td>\n",
       "      <td>Female</td>\n",
       "      <td>61.0</td>\n",
       "      <td>0</td>\n",
       "      <td>0</td>\n",
       "      <td>Yes</td>\n",
       "      <td>Self-employed</td>\n",
       "      <td>Rural</td>\n",
       "      <td>202.21</td>\n",
       "      <td>NaN</td>\n",
       "      <td>never smoked</td>\n",
       "      <td>1</td>\n",
       "    </tr>\n",
       "    <tr>\n",
       "      <th>2</th>\n",
       "      <td>31112</td>\n",
       "      <td>Male</td>\n",
       "      <td>80.0</td>\n",
       "      <td>0</td>\n",
       "      <td>1</td>\n",
       "      <td>Yes</td>\n",
       "      <td>Private</td>\n",
       "      <td>Rural</td>\n",
       "      <td>105.92</td>\n",
       "      <td>32.5</td>\n",
       "      <td>never smoked</td>\n",
       "      <td>1</td>\n",
       "    </tr>\n",
       "    <tr>\n",
       "      <th>3</th>\n",
       "      <td>60182</td>\n",
       "      <td>Female</td>\n",
       "      <td>49.0</td>\n",
       "      <td>0</td>\n",
       "      <td>0</td>\n",
       "      <td>Yes</td>\n",
       "      <td>Private</td>\n",
       "      <td>Urban</td>\n",
       "      <td>171.23</td>\n",
       "      <td>34.4</td>\n",
       "      <td>smokes</td>\n",
       "      <td>1</td>\n",
       "    </tr>\n",
       "    <tr>\n",
       "      <th>4</th>\n",
       "      <td>1665</td>\n",
       "      <td>Female</td>\n",
       "      <td>79.0</td>\n",
       "      <td>1</td>\n",
       "      <td>0</td>\n",
       "      <td>Yes</td>\n",
       "      <td>Self-employed</td>\n",
       "      <td>Rural</td>\n",
       "      <td>174.12</td>\n",
       "      <td>24.0</td>\n",
       "      <td>never smoked</td>\n",
       "      <td>1</td>\n",
       "    </tr>\n",
       "  </tbody>\n",
       "</table>\n",
       "</div>"
      ],
      "text/plain": [
       "      id  gender   age  ...   bmi   smoking_status stroke\n",
       "0   9046    Male  67.0  ...  36.6  formerly smoked      1\n",
       "1  51676  Female  61.0  ...   NaN     never smoked      1\n",
       "2  31112    Male  80.0  ...  32.5     never smoked      1\n",
       "3  60182  Female  49.0  ...  34.4           smokes      1\n",
       "4   1665  Female  79.0  ...  24.0     never smoked      1\n",
       "\n",
       "[5 rows x 12 columns]"
      ]
     },
     "metadata": {
      "tags": []
     },
     "execution_count": 13
    }
   ]
  },
  {
   "cell_type": "code",
   "metadata": {
    "colab": {
     "base_uri": "https://localhost:8080/"
    },
    "id": "My1xyKZeB5m3",
    "executionInfo": {
     "status": "ok",
     "timestamp": 1621803647008,
     "user_tz": -180,
     "elapsed": 4,
     "user": {
      "displayName": "丁诺",
      "photoUrl": "",
      "userId": "16957255556963902479"
     }
    },
    "outputId": "0c6af1a1-120f-45d7-8c2f-59f1ef47430a",
    "pycharm": {
     "name": "#%%\n"
    }
   },
   "source": [
    "data.info()"
   ],
   "execution_count": null,
   "outputs": [
    {
     "output_type": "stream",
     "text": [
      "<class 'pandas.core.frame.DataFrame'>\n",
      "RangeIndex: 5110 entries, 0 to 5109\n",
      "Data columns (total 12 columns):\n",
      " #   Column             Non-Null Count  Dtype  \n",
      "---  ------             --------------  -----  \n",
      " 0   id                 5110 non-null   int64  \n",
      " 1   gender             5110 non-null   object \n",
      " 2   age                5110 non-null   float64\n",
      " 3   hypertension       5110 non-null   int64  \n",
      " 4   heart_disease      5110 non-null   int64  \n",
      " 5   ever_married       5110 non-null   object \n",
      " 6   work_type          5110 non-null   object \n",
      " 7   Residence_type     5110 non-null   object \n",
      " 8   avg_glucose_level  5110 non-null   float64\n",
      " 9   bmi                4909 non-null   float64\n",
      " 10  smoking_status     5110 non-null   object \n",
      " 11  stroke             5110 non-null   int64  \n",
      "dtypes: float64(3), int64(4), object(5)\n",
      "memory usage: 479.2+ KB\n"
     ],
     "name": "stdout"
    }
   ]
  },
  {
   "cell_type": "code",
   "metadata": {
    "colab": {
     "base_uri": "https://localhost:8080/",
     "height": 297
    },
    "id": "s05df9l7D7AF",
    "executionInfo": {
     "status": "ok",
     "timestamp": 1621804173856,
     "user_tz": -180,
     "elapsed": 402,
     "user": {
      "displayName": "丁诺",
      "photoUrl": "",
      "userId": "16957255556963902479"
     }
    },
    "outputId": "2e93ec25-44f3-417f-f3ab-95866f169511",
    "pycharm": {
     "name": "#%%\n"
    }
   },
   "source": [
    "data.describe()"
   ],
   "execution_count": null,
   "outputs": [
    {
     "output_type": "execute_result",
     "data": {
      "text/html": [
       "<div>\n",
       "<style scoped>\n",
       "    .dataframe tbody tr th:only-of-type {\n",
       "        vertical-align: middle;\n",
       "    }\n",
       "\n",
       "    .dataframe tbody tr th {\n",
       "        vertical-align: top;\n",
       "    }\n",
       "\n",
       "    .dataframe thead th {\n",
       "        text-align: right;\n",
       "    }\n",
       "</style>\n",
       "<table border=\"1\" class=\"dataframe\">\n",
       "  <thead>\n",
       "    <tr style=\"text-align: right;\">\n",
       "      <th></th>\n",
       "      <th>id</th>\n",
       "      <th>age</th>\n",
       "      <th>hypertension</th>\n",
       "      <th>heart_disease</th>\n",
       "      <th>avg_glucose_level</th>\n",
       "      <th>bmi</th>\n",
       "      <th>stroke</th>\n",
       "    </tr>\n",
       "  </thead>\n",
       "  <tbody>\n",
       "    <tr>\n",
       "      <th>count</th>\n",
       "      <td>5110.000000</td>\n",
       "      <td>5110.000000</td>\n",
       "      <td>5110.000000</td>\n",
       "      <td>5110.000000</td>\n",
       "      <td>5110.000000</td>\n",
       "      <td>4909.000000</td>\n",
       "      <td>5110.000000</td>\n",
       "    </tr>\n",
       "    <tr>\n",
       "      <th>mean</th>\n",
       "      <td>36517.829354</td>\n",
       "      <td>43.226614</td>\n",
       "      <td>0.097456</td>\n",
       "      <td>0.054012</td>\n",
       "      <td>106.147677</td>\n",
       "      <td>28.893237</td>\n",
       "      <td>0.048728</td>\n",
       "    </tr>\n",
       "    <tr>\n",
       "      <th>std</th>\n",
       "      <td>21161.721625</td>\n",
       "      <td>22.612647</td>\n",
       "      <td>0.296607</td>\n",
       "      <td>0.226063</td>\n",
       "      <td>45.283560</td>\n",
       "      <td>7.854067</td>\n",
       "      <td>0.215320</td>\n",
       "    </tr>\n",
       "    <tr>\n",
       "      <th>min</th>\n",
       "      <td>67.000000</td>\n",
       "      <td>0.080000</td>\n",
       "      <td>0.000000</td>\n",
       "      <td>0.000000</td>\n",
       "      <td>55.120000</td>\n",
       "      <td>10.300000</td>\n",
       "      <td>0.000000</td>\n",
       "    </tr>\n",
       "    <tr>\n",
       "      <th>25%</th>\n",
       "      <td>17741.250000</td>\n",
       "      <td>25.000000</td>\n",
       "      <td>0.000000</td>\n",
       "      <td>0.000000</td>\n",
       "      <td>77.245000</td>\n",
       "      <td>23.500000</td>\n",
       "      <td>0.000000</td>\n",
       "    </tr>\n",
       "    <tr>\n",
       "      <th>50%</th>\n",
       "      <td>36932.000000</td>\n",
       "      <td>45.000000</td>\n",
       "      <td>0.000000</td>\n",
       "      <td>0.000000</td>\n",
       "      <td>91.885000</td>\n",
       "      <td>28.100000</td>\n",
       "      <td>0.000000</td>\n",
       "    </tr>\n",
       "    <tr>\n",
       "      <th>75%</th>\n",
       "      <td>54682.000000</td>\n",
       "      <td>61.000000</td>\n",
       "      <td>0.000000</td>\n",
       "      <td>0.000000</td>\n",
       "      <td>114.090000</td>\n",
       "      <td>33.100000</td>\n",
       "      <td>0.000000</td>\n",
       "    </tr>\n",
       "    <tr>\n",
       "      <th>max</th>\n",
       "      <td>72940.000000</td>\n",
       "      <td>82.000000</td>\n",
       "      <td>1.000000</td>\n",
       "      <td>1.000000</td>\n",
       "      <td>271.740000</td>\n",
       "      <td>97.600000</td>\n",
       "      <td>1.000000</td>\n",
       "    </tr>\n",
       "  </tbody>\n",
       "</table>\n",
       "</div>"
      ],
      "text/plain": [
       "                 id          age  ...          bmi       stroke\n",
       "count   5110.000000  5110.000000  ...  4909.000000  5110.000000\n",
       "mean   36517.829354    43.226614  ...    28.893237     0.048728\n",
       "std    21161.721625    22.612647  ...     7.854067     0.215320\n",
       "min       67.000000     0.080000  ...    10.300000     0.000000\n",
       "25%    17741.250000    25.000000  ...    23.500000     0.000000\n",
       "50%    36932.000000    45.000000  ...    28.100000     0.000000\n",
       "75%    54682.000000    61.000000  ...    33.100000     0.000000\n",
       "max    72940.000000    82.000000  ...    97.600000     1.000000\n",
       "\n",
       "[8 rows x 7 columns]"
      ]
     },
     "metadata": {
      "tags": []
     },
     "execution_count": 8
    }
   ]
  },
  {
   "cell_type": "code",
   "metadata": {
    "colab": {
     "base_uri": "https://localhost:8080/",
     "height": 716
    },
    "id": "vKmJhxKwB8_2",
    "executionInfo": {
     "status": "ok",
     "timestamp": 1621805960159,
     "user_tz": -180,
     "elapsed": 1281,
     "user": {
      "displayName": "丁诺",
      "photoUrl": "",
      "userId": "16957255556963902479"
     }
    },
    "outputId": "97b741d2-e90a-49c6-9d7e-1da37091504f",
    "pycharm": {
     "name": "#%%\n"
    }
   },
   "source": [
    "import sklearn.preprocessing as preproc\n",
    "\n",
    "\n",
    "data['standardized_n'] = preproc.StandardScaler().fit_transform(data[['avg_glucose_level']])\n",
    "data['minmax_n'] = preproc.minmax_scale(data[['avg_glucose_level']])\n",
    "data['l2_normalized_n'] = preproc.normalize(data[['avg_glucose_level']], axis = 0)\n",
    "\n",
    "fig,(ax1, ax2, ax3, ax4) = plt.subplots(4, 1, figsize = (7, 12))\n",
    "plt.subplots_adjust(wspace =0, hspace =0.5)\n",
    "\n",
    "ax1.hist(data['avg_glucose_level'], bins = 100, color = 'g')\n",
    "ax1.set_xlabel('')\n",
    "ax1.set_ylabel('glucose')\n",
    "ax1.set_title('original data')\n",
    "\n",
    "ax2.hist(data['standardized_n'], bins = 100, color = 'g')\n",
    "ax2.set_xlabel('')\n",
    "ax2.set_ylabel('glucose')\n",
    "ax2.set_title('standardized')\n",
    "\n",
    "ax3.hist(data['minmax_n'], bins = 100, color = 'g')\n",
    "ax3.set_xlabel('')\n",
    "ax3.set_ylabel('glucose')\n",
    "ax3.set_title('min-max')\n",
    "\n",
    "ax4.hist(data['l2_normalized_n'], bins = 100, color = 'g')\n",
    "ax4.set_xlabel('')\n",
    "ax4.set_ylabel('glucose')\n",
    "ax4.set_title('L2-normailzation')\n",
    "\n",
    "plt.show()"
   ],
   "execution_count": null,
   "outputs": [
    {
     "output_type": "display_data",
     "data": {
      "image/png": "[encoded data removed]",
      "text/plain": [
       "<Figure size 504x864 with 4 Axes>"
      ]
     },
     "metadata": {
      "tags": [],
      "needs_background": "light"
     }
    }
   ]
  },
  {
   "cell_type": "code",
   "metadata": {
    "colab": {
     "base_uri": "https://localhost:8080/"
    },
    "id": "4RODzBTHCJDm",
    "executionInfo": {
     "status": "ok",
     "timestamp": 1621880712593,
     "user_tz": -180,
     "elapsed": 371,
     "user": {
      "displayName": "丁诺",
      "photoUrl": "",
      "userId": "16957255556963902479"
     }
    },
    "outputId": "c3e2bda1-983b-44b2-f9fd-5349919ea035",
    "pycharm": {
     "name": "#%%\n"
    }
   },
   "source": [
    "u = data['avg_glucose_level'].mean()\n",
    "std = data['avg_glucose_level'].std()\n",
    "error = data[np.abs(data['avg_glucose_level'] - u) > 3*std]\n",
    "data_c = data[np.abs(data['avg_glucose_level'] - u) <= 3*std]\n",
    "print(data_c.head())\n",
    "print(error.head())"
   ],
   "execution_count": 42,
   "outputs": [
    {
     "output_type": "stream",
     "text": [
      "      id  gender   age  ...   bmi  smoking_status  stroke\n",
      "0   9046       1  67.0  ...  36.6               1       1\n",
      "1  51676       0  61.0  ...   NaN               2       1\n",
      "2  31112       1  80.0  ...  32.5               2       1\n",
      "3  60182       0  49.0  ...  34.4               3       1\n",
      "4   1665       0  79.0  ...  24.0               2       1\n",
      "\n",
      "[5 rows x 12 columns]\n",
      "        id  gender   age  ...   bmi  smoking_status  stroke\n",
      "33   54401       1  80.0  ...  30.5               1       1\n",
      "45   19824       1  76.0  ...  33.6               2       1\n",
      "122  13491       1  80.0  ...  31.7               3       1\n",
      "123  44033       1  56.0  ...  35.8               2       1\n",
      "135  71279       0  71.0  ...  38.7               2       1\n",
      "\n",
      "[5 rows x 12 columns]\n"
     ],
     "name": "stdout"
    }
   ]
  },
  {
   "cell_type": "code",
   "metadata": {
    "colab": {
     "base_uri": "https://localhost:8080/"
    },
    "id": "wVDNAzRpK-wU",
    "executionInfo": {
     "status": "ok",
     "timestamp": 1621878587067,
     "user_tz": -180,
     "elapsed": 1339,
     "user": {
      "displayName": "丁诺",
      "photoUrl": "",
      "userId": "16957255556963902479"
     }
    },
    "outputId": "a938e08a-14ef-4ca2-effd-061a98a689e8",
    "pycharm": {
     "name": "#%%\n"
    }
   },
   "source": [
    "from sklearn.preprocessing import LabelEncoder\n",
    "\n",
    "gle = LabelEncoder()\n",
    "genre_labels = gle.fit_transform(data['work_type'])\n",
    "genre_mappings = {index: label for index, label in enumerate(gle.classes_)}\n",
    "genre_mappings"
   ],
   "execution_count": 17,
   "outputs": [
    {
     "output_type": "execute_result",
     "data": {
      "text/plain": [
       "{0: 'Govt_job',\n",
       " 1: 'Never_worked',\n",
       " 2: 'Private',\n",
       " 3: 'Self-employed',\n",
       " 4: 'children'}"
      ]
     },
     "metadata": {
      "tags": []
     },
     "execution_count": 17
    }
   ]
  },
  {
   "cell_type": "code",
   "metadata": {
    "colab": {
     "base_uri": "https://localhost:8080/"
    },
    "id": "X9fOA7uwOo6I",
    "executionInfo": {
     "status": "ok",
     "timestamp": 1621878688492,
     "user_tz": -180,
     "elapsed": 518,
     "user": {
      "displayName": "丁诺",
      "photoUrl": "",
      "userId": "16957255556963902479"
     }
    },
    "outputId": "eb748fbf-09b0-4af3-bdc8-92859b947ab2",
    "pycharm": {
     "name": "#%%\n"
    }
   },
   "source": [
    "le = LabelEncoder()\n",
    "data['gender'] = le.fit_transform(data['gender'])\n",
    "data['ever_married'] = le.fit_transform(data['ever_married'])\n",
    "data['work_type'] = le.fit_transform(data['work_type'])\n",
    "data['Residence_type'] = le.fit_transform(data['Residence_type'])\n",
    "data['smoking_status'] = le.fit_transform(data['smoking_status'])\n",
    "x = data.iloc[:,1:-1].values\n",
    "y = data.iloc[:,-1].values\n",
    "\n",
    "print('X Shape', x.shape)\n",
    "print('Y Shape',y.shape)"
   ],
   "execution_count": 19,
   "outputs": [
    {
     "output_type": "stream",
     "text": [
      "X Shape (5110, 10)\n",
      "Y Shape (5110,)\n"
     ],
     "name": "stdout"
    }
   ]
  },
  {
   "cell_type": "code",
   "metadata": {
    "id": "skkFM72zhKmL",
    "executionInfo": {
     "status": "ok",
     "timestamp": 1621878994077,
     "user_tz": -180,
     "elapsed": 600,
     "user": {
      "displayName": "丁诺",
      "photoUrl": "",
      "userId": "16957255556963902479"
     }
    },
    "pycharm": {
     "name": "#%%\n"
    }
   },
   "source": [
    "from sklearn.compose import ColumnTransformer\n",
    "from sklearn.preprocessing import OneHotEncoder\n",
    "\n",
    "ct = ColumnTransformer(transformers=[('encoder',OneHotEncoder(),[0,5,9])],remainder='passthrough')\n",
    "x = np.array(ct.fit_transform(x))"
   ],
   "execution_count": 24,
   "outputs": []
  },
  {
   "cell_type": "code",
   "metadata": {
    "colab": {
     "base_uri": "https://localhost:8080/"
    },
    "id": "3FlWYh2CgNfx",
    "executionInfo": {
     "status": "ok",
     "timestamp": 1621878997711,
     "user_tz": -180,
     "elapsed": 574,
     "user": {
      "displayName": "丁诺",
      "photoUrl": "",
      "userId": "16957255556963902479"
     }
    },
    "outputId": "47c4e932-4359-4c15-edec-b910ccdafc07",
    "pycharm": {
     "name": "#%%\n"
    }
   },
   "source": [
    "#Filter\n",
    "from sklearn.feature_selection import VarianceThreshold\n",
    "\n",
    "VarianceThreshold(threshold=3).fit_transform(x)"
   ],
   "execution_count": 25,
   "outputs": [
    {
     "output_type": "execute_result",
     "data": {
      "text/plain": [
       "array([[ 67.  , 228.69,  36.6 ],\n",
       "       [ 61.  , 202.21,    nan],\n",
       "       [ 80.  , 105.92,  32.5 ],\n",
       "       ...,\n",
       "       [ 35.  ,  82.99,  30.6 ],\n",
       "       [ 51.  , 166.29,  25.6 ],\n",
       "       [ 44.  ,  85.28,  26.2 ]])"
      ]
     },
     "metadata": {
      "tags": []
     },
     "execution_count": 25
    }
   ]
  },
  {
   "cell_type": "code",
   "metadata": {
    "colab": {
     "base_uri": "https://localhost:8080/"
    },
    "id": "XhfLcyqDgmOn",
    "executionInfo": {
     "status": "ok",
     "timestamp": 1621880982802,
     "user_tz": -180,
     "elapsed": 452,
     "user": {
      "displayName": "丁诺",
      "photoUrl": "",
      "userId": "16957255556963902479"
     }
    },
    "outputId": "54d5ed60-2d78-4458-e8c6-e79c554499e7",
    "pycharm": {
     "name": "#%%\n"
    }
   },
   "source": [
    "#Wrapper\n",
    "features = ['id','age',\n",
    " 'hypertension',\n",
    " 'heart_disease',\n",
    " 'ever_married',\n",
    " 'Residence_type',\n",
    " 'avg_glucose_level',\n",
    " 'bmi',\n",
    " 'gender',\n",
    " 'work_type',\n",
    " 'smoking_status']\n",
    "\n",
    "label = ['stroke']\n",
    "\n",
    "X_1 = data[features]\n",
    "y_1 = data[label]\n",
    "X_1.bmi=(X_1.bmi.fillna(28.74))\n",
    "X_1.gender=(X_1.gender.fillna(1))\n"
   ],
   "execution_count": 43,
   "outputs": [
    {
     "output_type": "stream",
     "text": [
      "/usr/local/lib/python3.7/dist-packages/pandas/core/generic.py:5170: SettingWithCopyWarning: \n",
      "A value is trying to be set on a copy of a slice from a DataFrame.\n",
      "Try using .loc[row_indexer,col_indexer] = value instead\n",
      "\n",
      "See the caveats in the documentation: https://pandas.pydata.org/pandas-docs/stable/user_guide/indexing.html#returning-a-view-versus-a-copy\n",
      "  self[name] = value\n"
     ],
     "name": "stderr"
    }
   ]
  },
  {
   "cell_type": "code",
   "metadata": {
    "colab": {
     "base_uri": "https://localhost:8080/"
    },
    "id": "aAoAsgR1lYM6",
    "executionInfo": {
     "status": "ok",
     "timestamp": 1621880229951,
     "user_tz": -180,
     "elapsed": 1180,
     "user": {
      "displayName": "丁诺",
      "photoUrl": "",
      "userId": "16957255556963902479"
     }
    },
    "outputId": "75ce9912-88b5-4ac1-a93b-61d2eb01845a",
    "pycharm": {
     "name": "#%%\n"
    }
   },
   "source": [
    "from imblearn.over_sampling import SMOTE\n",
    "\n",
    "smote = SMOTE()\n",
    "x_smote, y_smote = smote.fit_resample(X_1, y_1)\n",
    "\n",
    "from sklearn.model_selection import train_test_split\n",
    "X_train,X_test, y_train,y_test=train_test_split(x_smote,y_smote,test_size=0.33,random_state=42)\n",
    "\n",
    "from sklearn.feature_selection import RFE\n",
    "from sklearn.linear_model import LogisticRegression\n",
    "\n",
    "RFE(estimator=LogisticRegression(), n_features_to_select=2).fit_transform(X_train, y_train)"
   ],
   "execution_count": 39,
   "outputs": [
    {
     "output_type": "stream",
     "text": [
      "/usr/local/lib/python3.7/dist-packages/sklearn/utils/validation.py:760: DataConversionWarning: A column-vector y was passed when a 1d array was expected. Please change the shape of y to (n_samples, ), for example using ravel().\n",
      "  y = column_or_1d(y, warn=True)\n",
      "/usr/local/lib/python3.7/dist-packages/sklearn/utils/deprecation.py:87: FutureWarning: Function safe_indexing is deprecated; safe_indexing is deprecated in version 0.22 and will be removed in version 0.24.\n",
      "  warnings.warn(msg, category=FutureWarning)\n",
      "/usr/local/lib/python3.7/dist-packages/sklearn/linear_model/_logistic.py:940: ConvergenceWarning: lbfgs failed to converge (status=1):\n",
      "STOP: TOTAL NO. of ITERATIONS REACHED LIMIT.\n",
      "\n",
      "Increase the number of iterations (max_iter) or scale the data as shown in:\n",
      "    https://scikit-learn.org/stable/modules/preprocessing.html\n",
      "Please also refer to the documentation for alternative solver options:\n",
      "    https://scikit-learn.org/stable/modules/linear_model.html#logistic-regression\n",
      "  extra_warning_msg=_LOGISTIC_SOLVER_CONVERGENCE_MSG)\n",
      "/usr/local/lib/python3.7/dist-packages/sklearn/linear_model/_logistic.py:940: ConvergenceWarning: lbfgs failed to converge (status=1):\n",
      "STOP: TOTAL NO. of ITERATIONS REACHED LIMIT.\n",
      "\n",
      "Increase the number of iterations (max_iter) or scale the data as shown in:\n",
      "    https://scikit-learn.org/stable/modules/preprocessing.html\n",
      "Please also refer to the documentation for alternative solver options:\n",
      "    https://scikit-learn.org/stable/modules/linear_model.html#logistic-regression\n",
      "  extra_warning_msg=_LOGISTIC_SOLVER_CONVERGENCE_MSG)\n",
      "/usr/local/lib/python3.7/dist-packages/sklearn/linear_model/_logistic.py:940: ConvergenceWarning: lbfgs failed to converge (status=1):\n",
      "STOP: TOTAL NO. of ITERATIONS REACHED LIMIT.\n",
      "\n",
      "Increase the number of iterations (max_iter) or scale the data as shown in:\n",
      "    https://scikit-learn.org/stable/modules/preprocessing.html\n",
      "Please also refer to the documentation for alternative solver options:\n",
      "    https://scikit-learn.org/stable/modules/linear_model.html#logistic-regression\n",
      "  extra_warning_msg=_LOGISTIC_SOLVER_CONVERGENCE_MSG)\n",
      "/usr/local/lib/python3.7/dist-packages/sklearn/linear_model/_logistic.py:940: ConvergenceWarning: lbfgs failed to converge (status=1):\n",
      "STOP: TOTAL NO. of ITERATIONS REACHED LIMIT.\n",
      "\n",
      "Increase the number of iterations (max_iter) or scale the data as shown in:\n",
      "    https://scikit-learn.org/stable/modules/preprocessing.html\n",
      "Please also refer to the documentation for alternative solver options:\n",
      "    https://scikit-learn.org/stable/modules/linear_model.html#logistic-regression\n",
      "  extra_warning_msg=_LOGISTIC_SOLVER_CONVERGENCE_MSG)\n"
     ],
     "name": "stderr"
    },
    {
     "output_type": "execute_result",
     "data": {
      "text/plain": [
       "array([[0.        , 1.        ],\n",
       "       [0.25230092, 0.74769908],\n",
       "       [0.        , 1.        ],\n",
       "       ...,\n",
       "       [0.        , 1.        ],\n",
       "       [0.        , 1.        ],\n",
       "       [0.        , 1.        ]])"
      ]
     },
     "metadata": {
      "tags": []
     },
     "execution_count": 39
    }
   ]
  },
  {
   "cell_type": "code",
   "metadata": {
    "colab": {
     "base_uri": "https://localhost:8080/"
    },
    "id": "xcKNL8rLiDPc",
    "executionInfo": {
     "status": "ok",
     "timestamp": 1621880326301,
     "user_tz": -180,
     "elapsed": 1052,
     "user": {
      "displayName": "丁诺",
      "photoUrl": "",
      "userId": "16957255556963902479"
     }
    },
    "outputId": "b7d9c626-2a6b-4b7a-b6bf-42d752f5469c",
    "pycharm": {
     "name": "#%%\n"
    }
   },
   "source": [
    "#Embedded\n",
    "from sklearn.feature_selection import SelectFromModel\n",
    "from sklearn.linear_model import LogisticRegression\n",
    " \n",
    "SelectFromModel(LogisticRegression(C=0.1)).fit_transform(X_train, y_train)"
   ],
   "execution_count": 41,
   "outputs": [
    {
     "output_type": "execute_result",
     "data": {
      "text/plain": [
       "array([[0.        , 2.        , 3.        ],\n",
       "       [0.        , 2.24309724, 0.        ],\n",
       "       [0.        , 2.        , 2.        ],\n",
       "       ...,\n",
       "       [0.        , 2.63624944, 2.75749963],\n",
       "       [0.        , 2.        , 3.        ],\n",
       "       [0.        , 2.        , 0.50776673]])"
      ]
     },
     "metadata": {
      "tags": []
     },
     "execution_count": 41
    }
   ]
  }
 ]
}