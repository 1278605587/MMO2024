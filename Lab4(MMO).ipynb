{
 "nbformat": 4,
 "nbformat_minor": 0,
 "metadata": {
  "colab": {
   "name": "Lab4(MMO).ipynb",
   "provenance": [],
   "collapsed_sections": [],
   "mount_file_id": "10qlVdXyTtr0qXO77l_fGN4lzsb6y79C7",
   "authorship_tag": "ABX9TyOMh1wDIr7kGIUDvGjO6/f6"
  },
  "kernelspec": {
   "name": "python3",
   "display_name": "Python 3"
  },
  "language_info": {
   "name": "python"
  },
  "accelerator": "GPU"
 },
 "cells": [
  {
   "cell_type": "code",
   "metadata": {
    "id": "6f9K2b7upldh",
    "pycharm": {
     "name": "#%%\n"
    }
   },
   "source": [
    "import numpy as np\n",
    "import pandas as pd\n",
    "import matplotlib.pyplot as plt\n",
    "from keras.models import Sequential\n",
    "from keras.layers.core import Dense,Activation,Dropout\n",
    "from keras.layers import LSTM\n",
    "from sklearn.preprocessing import StandardScaler\n",
    "from sklearn.model_selection import train_test_split\n",
    "import seaborn as sns\n",
    "from sklearn.ensemble import RandomForestClassifier\n",
    "from sklearn import svm\n",
    "from nltk.corpus import stopwords \n",
    "from nltk.tokenize import word_tokenize \n",
    "from xgboost import XGBClassifier\n",
    "from sklearn.neural_network import MLPClassifier\n",
    "from sklearn.metrics import accuracy_score\n",
    "from sklearn.tree import DecisionTreeClassifier\n",
    "from keras.callbacks import EarlyStopping\n",
    "import math\n",
    "import os\n",
    "from sklearn.feature_extraction.text import TfidfVectorizer, CountVectorizer\n",
    "from sklearn.metrics.pairwise import linear_kernel, cosine_similarity\n",
    "from nltk.stem.snowball import SnowballStemmer\n",
    "from nltk.stem.wordnet import WordNetLemmatizer\n",
    "from nltk.corpus import wordnet\n",
    "from nltk.stem import WordNetLemmatizer\n",
    "\n",
    "hotel_details=pd.read_csv('drive/MyDrive/hotel/Hotel_details.csv',delimiter=',')\n",
    "hotel_rooms=pd.read_csv('drive/MyDrive/hotel/Hotel_Room_attributes.csv',delimiter=',')\n",
    "hotel_cost=pd.read_csv('drive/MyDrive/hotel/hotels_RoomPrice.csv',delimiter=',')"
   ],
   "execution_count": null,
   "outputs": []
  },
  {
   "cell_type": "code",
   "metadata": {
    "colab": {
     "base_uri": "https://localhost:8080/",
     "height": 360
    },
    "id": "WgljCVyECIdR",
    "executionInfo": {
     "status": "ok",
     "timestamp": 1621893647770,
     "user_tz": -180,
     "elapsed": 229,
     "user": {
      "displayName": "丁诺",
      "photoUrl": "",
      "userId": "16957255556963902479"
     }
    },
    "outputId": "93725452-c0b8-4fdb-9c60-87462c15ceee",
    "pycharm": {
     "name": "#%%\n"
    }
   },
   "source": [
    "hotel_details.head()"
   ],
   "execution_count": null,
   "outputs": [
    {
     "output_type": "execute_result",
     "data": {
      "text/html": [
       "<div>\n",
       "<style scoped>\n",
       "    .dataframe tbody tr th:only-of-type {\n",
       "        vertical-align: middle;\n",
       "    }\n",
       "\n",
       "    .dataframe tbody tr th {\n",
       "        vertical-align: top;\n",
       "    }\n",
       "\n",
       "    .dataframe thead th {\n",
       "        text-align: right;\n",
       "    }\n",
       "</style>\n",
       "<table border=\"1\" class=\"dataframe\">\n",
       "  <thead>\n",
       "    <tr style=\"text-align: right;\">\n",
       "      <th></th>\n",
       "      <th>id</th>\n",
       "      <th>hotelid</th>\n",
       "      <th>hotelname</th>\n",
       "      <th>address</th>\n",
       "      <th>city</th>\n",
       "      <th>country</th>\n",
       "      <th>zipcode</th>\n",
       "      <th>propertytype</th>\n",
       "      <th>starrating</th>\n",
       "      <th>latitude</th>\n",
       "      <th>longitude</th>\n",
       "      <th>Source</th>\n",
       "      <th>url</th>\n",
       "      <th>curr</th>\n",
       "    </tr>\n",
       "  </thead>\n",
       "  <tbody>\n",
       "    <tr>\n",
       "      <th>0</th>\n",
       "      <td>46406</td>\n",
       "      <td>1771651</td>\n",
       "      <td>Mediteran Bungalow Galeb</td>\n",
       "      <td>Vukovarska 7</td>\n",
       "      <td>Omis</td>\n",
       "      <td>Croatia</td>\n",
       "      <td>21310.0</td>\n",
       "      <td>Holiday parks</td>\n",
       "      <td>4</td>\n",
       "      <td>43.440124</td>\n",
       "      <td>16.682505</td>\n",
       "      <td>2</td>\n",
       "      <td>https://www.booking.com/hotel/hr/bungalow-luxu...</td>\n",
       "      <td>EUR</td>\n",
       "    </tr>\n",
       "    <tr>\n",
       "      <th>1</th>\n",
       "      <td>46407</td>\n",
       "      <td>177167</td>\n",
       "      <td>Hotel Polonia</td>\n",
       "      <td>Plac Teatralny 5</td>\n",
       "      <td>Torun</td>\n",
       "      <td>Poland</td>\n",
       "      <td>NaN</td>\n",
       "      <td>Hotels</td>\n",
       "      <td>3</td>\n",
       "      <td>53.012329</td>\n",
       "      <td>18.603800</td>\n",
       "      <td>5</td>\n",
       "      <td>https://www.agoda.com/en-gb/hotel-polonia/hote...</td>\n",
       "      <td>EUR</td>\n",
       "    </tr>\n",
       "    <tr>\n",
       "      <th>2</th>\n",
       "      <td>46408</td>\n",
       "      <td>1771675</td>\n",
       "      <td>Rifugio Sass Bece</td>\n",
       "      <td>Belvedere del Pordoi,1</td>\n",
       "      <td>Canazei</td>\n",
       "      <td>Italy</td>\n",
       "      <td>38032.0</td>\n",
       "      <td>Hotels</td>\n",
       "      <td>3</td>\n",
       "      <td>46.477920</td>\n",
       "      <td>11.813350</td>\n",
       "      <td>2</td>\n",
       "      <td>http://www.booking.com/hotel/it/rifugio-sass-b...</td>\n",
       "      <td>EUR</td>\n",
       "    </tr>\n",
       "    <tr>\n",
       "      <th>3</th>\n",
       "      <td>46409</td>\n",
       "      <td>177168</td>\n",
       "      <td>Madalena Hotel</td>\n",
       "      <td>Mykonos</td>\n",
       "      <td>Mykonos</td>\n",
       "      <td>Greece</td>\n",
       "      <td>84600.0</td>\n",
       "      <td>Hotels</td>\n",
       "      <td>3</td>\n",
       "      <td>37.452316</td>\n",
       "      <td>25.329849</td>\n",
       "      <td>5</td>\n",
       "      <td>https://www.agoda.com/en-gb/madalena-hotel/hot...</td>\n",
       "      <td>EUR</td>\n",
       "    </tr>\n",
       "    <tr>\n",
       "      <th>4</th>\n",
       "      <td>46410</td>\n",
       "      <td>1771718</td>\n",
       "      <td>Pension Morenfeld</td>\n",
       "      <td>Mair im Korn Strasse 2</td>\n",
       "      <td>Lagundo</td>\n",
       "      <td>Italy</td>\n",
       "      <td>39022.0</td>\n",
       "      <td>Hotels</td>\n",
       "      <td>3</td>\n",
       "      <td>46.682780</td>\n",
       "      <td>11.131736</td>\n",
       "      <td>2</td>\n",
       "      <td>http://www.booking.com/hotel/it/pension-morenf...</td>\n",
       "      <td>EUR</td>\n",
       "    </tr>\n",
       "  </tbody>\n",
       "</table>\n",
       "</div>"
      ],
      "text/plain": [
       "      id  hotelid  ...                                                url curr\n",
       "0  46406  1771651  ...  https://www.booking.com/hotel/hr/bungalow-luxu...  EUR\n",
       "1  46407   177167  ...  https://www.agoda.com/en-gb/hotel-polonia/hote...  EUR\n",
       "2  46408  1771675  ...  http://www.booking.com/hotel/it/rifugio-sass-b...  EUR\n",
       "3  46409   177168  ...  https://www.agoda.com/en-gb/madalena-hotel/hot...  EUR\n",
       "4  46410  1771718  ...  http://www.booking.com/hotel/it/pension-morenf...  EUR\n",
       "\n",
       "[5 rows x 14 columns]"
      ]
     },
     "metadata": {
      "tags": []
     },
     "execution_count": 4
    }
   ]
  },
  {
   "cell_type": "code",
   "metadata": {
    "colab": {
     "base_uri": "https://localhost:8080/",
     "height": 204
    },
    "id": "Um1MvmXtCX_K",
    "executionInfo": {
     "status": "ok",
     "timestamp": 1621893666416,
     "user_tz": -180,
     "elapsed": 253,
     "user": {
      "displayName": "丁诺",
      "photoUrl": "",
      "userId": "16957255556963902479"
     }
    },
    "outputId": "3356c2f8-3123-4778-a94b-830dea2650b1",
    "pycharm": {
     "name": "#%%\n"
    }
   },
   "source": [
    "hotel_rooms.head()"
   ],
   "execution_count": null,
   "outputs": [
    {
     "output_type": "execute_result",
     "data": {
      "text/html": [
       "<div>\n",
       "<style scoped>\n",
       "    .dataframe tbody tr th:only-of-type {\n",
       "        vertical-align: middle;\n",
       "    }\n",
       "\n",
       "    .dataframe tbody tr th {\n",
       "        vertical-align: top;\n",
       "    }\n",
       "\n",
       "    .dataframe thead th {\n",
       "        text-align: right;\n",
       "    }\n",
       "</style>\n",
       "<table border=\"1\" class=\"dataframe\">\n",
       "  <thead>\n",
       "    <tr style=\"text-align: right;\">\n",
       "      <th></th>\n",
       "      <th>id</th>\n",
       "      <th>hotelcode</th>\n",
       "      <th>roomamenities</th>\n",
       "      <th>roomtype</th>\n",
       "      <th>ratedescription</th>\n",
       "    </tr>\n",
       "  </thead>\n",
       "  <tbody>\n",
       "    <tr>\n",
       "      <th>0</th>\n",
       "      <td>50677497</td>\n",
       "      <td>634876</td>\n",
       "      <td>Air conditioning: ;Alarm clock: ;Carpeting: ;C...</td>\n",
       "      <td>Double Room</td>\n",
       "      <td>Room size: 15 m²/161 ft², Shower, 1 king bed</td>\n",
       "    </tr>\n",
       "    <tr>\n",
       "      <th>1</th>\n",
       "      <td>50672149</td>\n",
       "      <td>8328096</td>\n",
       "      <td>Air conditioning: ;Closet: ;Fireplace: ;Free W...</td>\n",
       "      <td>Vacation Home</td>\n",
       "      <td>Shower, Kitchenette, 2 bedrooms, 1 double bed ...</td>\n",
       "    </tr>\n",
       "    <tr>\n",
       "      <th>2</th>\n",
       "      <td>50643430</td>\n",
       "      <td>8323442</td>\n",
       "      <td>Air conditioning: ;Closet: ;Dishwasher: ;Firep...</td>\n",
       "      <td>Vacation Home</td>\n",
       "      <td>Shower, Kitchenette, 2 bedrooms, 1 double bed ...</td>\n",
       "    </tr>\n",
       "    <tr>\n",
       "      <th>3</th>\n",
       "      <td>50650317</td>\n",
       "      <td>7975</td>\n",
       "      <td>Air conditioning: ;Clothes rack: ;Coffee/tea m...</td>\n",
       "      <td>Standard Triple Room</td>\n",
       "      <td>Room size: 20 m²/215 ft², Shower, 3 single beds</td>\n",
       "    </tr>\n",
       "    <tr>\n",
       "      <th>4</th>\n",
       "      <td>50650318</td>\n",
       "      <td>7975</td>\n",
       "      <td>Air conditioning: ;Clothes rack: ;Coffee/tea m...</td>\n",
       "      <td>Standard Triple Room</td>\n",
       "      <td>Room size: 20 m²/215 ft², Shower, 3 single beds</td>\n",
       "    </tr>\n",
       "  </tbody>\n",
       "</table>\n",
       "</div>"
      ],
      "text/plain": [
       "         id  ...                                    ratedescription\n",
       "0  50677497  ...       Room size: 15 m²/161 ft², Shower, 1 king bed\n",
       "1  50672149  ...  Shower, Kitchenette, 2 bedrooms, 1 double bed ...\n",
       "2  50643430  ...  Shower, Kitchenette, 2 bedrooms, 1 double bed ...\n",
       "3  50650317  ...    Room size: 20 m²/215 ft², Shower, 3 single beds\n",
       "4  50650318  ...    Room size: 20 m²/215 ft², Shower, 3 single beds\n",
       "\n",
       "[5 rows x 5 columns]"
      ]
     },
     "metadata": {
      "tags": []
     },
     "execution_count": 5
    }
   ]
  },
  {
   "cell_type": "code",
   "metadata": {
    "colab": {
     "base_uri": "https://localhost:8080/"
    },
    "id": "OtgNPnrcCdGC",
    "executionInfo": {
     "status": "ok",
     "timestamp": 1621893708620,
     "user_tz": -180,
     "elapsed": 215,
     "user": {
      "displayName": "丁诺",
      "photoUrl": "",
      "userId": "16957255556963902479"
     }
    },
    "outputId": "fc0ee67c-fa0b-4e8c-b45c-e4b4c27d952a",
    "pycharm": {
     "name": "#%%\n"
    }
   },
   "source": [
    "del hotel_details['id']\n",
    "del hotel_rooms['id']\n",
    "del hotel_details['zipcode']\n",
    "\n",
    "hotel_details=hotel_details.dropna()    #滤除缺失数据\n",
    "hotel_rooms=hotel_rooms.dropna()\n",
    "\n",
    "hotel_details.drop_duplicates(subset='hotelid',keep=False,inplace=True)     #删除重复项\n",
    "hotel=pd.merge(hotel_rooms,hotel_details,left_on='hotelcode',right_on='hotelid',how='inner')\n",
    "hotel.columns"
   ],
   "execution_count": null,
   "outputs": [
    {
     "output_type": "execute_result",
     "data": {
      "text/plain": [
       "Index(['hotelcode', 'roomamenities', 'roomtype', 'ratedescription', 'hotelid',\n",
       "       'hotelname', 'address', 'city', 'country', 'propertytype', 'starrating',\n",
       "       'latitude', 'longitude', 'Source', 'url', 'curr'],\n",
       "      dtype='object')"
      ]
     },
     "metadata": {
      "tags": []
     },
     "execution_count": 6
    }
   ]
  },
  {
   "cell_type": "code",
   "metadata": {
    "colab": {
     "base_uri": "https://localhost:8080/"
    },
    "id": "iDAtSYTECiGD",
    "executionInfo": {
     "status": "ok",
     "timestamp": 1621893726927,
     "user_tz": -180,
     "elapsed": 227,
     "user": {
      "displayName": "丁诺",
      "photoUrl": "",
      "userId": "16957255556963902479"
     }
    },
    "outputId": "3c86c627-eb9a-4c0b-e93a-c237b9235122",
    "pycharm": {
     "name": "#%%\n"
    }
   },
   "source": [
    "del hotel['hotelid']\n",
    "del hotel['url']\n",
    "del hotel['curr']\n",
    "del hotel['Source']\n",
    "hotel.columns"
   ],
   "execution_count": null,
   "outputs": [
    {
     "output_type": "execute_result",
     "data": {
      "text/plain": [
       "Index(['hotelcode', 'roomamenities', 'roomtype', 'ratedescription',\n",
       "       'hotelname', 'address', 'city', 'country', 'propertytype', 'starrating',\n",
       "       'latitude', 'longitude'],\n",
       "      dtype='object')"
      ]
     },
     "metadata": {
      "tags": []
     },
     "execution_count": 7
    }
   ]
  },
  {
   "cell_type": "code",
   "metadata": {
    "colab": {
     "base_uri": "https://localhost:8080/",
     "height": 221
    },
    "id": "1V0m82YqCkL6",
    "executionInfo": {
     "status": "ok",
     "timestamp": 1621893778166,
     "user_tz": -180,
     "elapsed": 218,
     "user": {
      "displayName": "丁诺",
      "photoUrl": "",
      "userId": "16957255556963902479"
     }
    },
    "outputId": "cffdc902-e220-4992-ebe5-11449bfae3a8",
    "pycharm": {
     "name": "#%%\n"
    }
   },
   "source": [
    "#Recommender system based only on City and ratings about the hotel\n",
    "\n",
    "def citybased(city):\n",
    "    hotel['city']=hotel['city'].str.lower()\n",
    "    citybase=hotel[hotel['city']==city.lower()]\n",
    "    citybase=citybase.sort_values(by='starrating',ascending=False)\n",
    "    citybase.drop_duplicates(subset='hotelcode',keep='first',inplace=True)\n",
    "    if(citybase.empty==0):\n",
    "        hname=citybase[['hotelname','starrating','address','roomamenities','ratedescription']]\n",
    "        return hname.head()\n",
    "    else:\n",
    "        print('No Hotels Available')\n",
    "        \n",
    "print('Top 5 hotels')\n",
    "citybased('London')"
   ],
   "execution_count": null,
   "outputs": [
    {
     "output_type": "stream",
     "text": [
      "Top 5 hotels\n"
     ],
     "name": "stdout"
    },
    {
     "output_type": "execute_result",
     "data": {
      "text/html": [
       "<div>\n",
       "<style scoped>\n",
       "    .dataframe tbody tr th:only-of-type {\n",
       "        vertical-align: middle;\n",
       "    }\n",
       "\n",
       "    .dataframe tbody tr th {\n",
       "        vertical-align: top;\n",
       "    }\n",
       "\n",
       "    .dataframe thead th {\n",
       "        text-align: right;\n",
       "    }\n",
       "</style>\n",
       "<table border=\"1\" class=\"dataframe\">\n",
       "  <thead>\n",
       "    <tr style=\"text-align: right;\">\n",
       "      <th></th>\n",
       "      <th>hotelname</th>\n",
       "      <th>starrating</th>\n",
       "      <th>address</th>\n",
       "      <th>roomamenities</th>\n",
       "      <th>ratedescription</th>\n",
       "    </tr>\n",
       "  </thead>\n",
       "  <tbody>\n",
       "    <tr>\n",
       "      <th>48985</th>\n",
       "      <td>The Colonnade London Hotel</td>\n",
       "      <td>4</td>\n",
       "      <td>2 Warrington Crescent</td>\n",
       "      <td>Additional toilet: ;Air conditioning: ;Alarm c...</td>\n",
       "      <td>Room size: 28 m²/301 ft², Balcony/terrace, Non...</td>\n",
       "    </tr>\n",
       "    <tr>\n",
       "      <th>58663</th>\n",
       "      <td>South Point Suites - London Bridge</td>\n",
       "      <td>4</td>\n",
       "      <td>Bermondsey Street</td>\n",
       "      <td>Air conditioning: ;Alarm clock: ;Blackout curt...</td>\n",
       "      <td>Room size: 24 m²/258 ft², Street view, Non-smo...</td>\n",
       "    </tr>\n",
       "    <tr>\n",
       "      <th>106943</th>\n",
       "      <td>Doubletree by Hilton London Chelsea</td>\n",
       "      <td>4</td>\n",
       "      <td>Imperial Road Imperial Wharf</td>\n",
       "      <td>Air conditioning: ;Alarm clock: ;Blackout curt...</td>\n",
       "      <td>Room size: 20 m²/215 ft², Street view, Non-smo...</td>\n",
       "    </tr>\n",
       "    <tr>\n",
       "      <th>57452</th>\n",
       "      <td>Sir Christopher Wren Hotel &amp; Spa</td>\n",
       "      <td>4</td>\n",
       "      <td>Unknown</td>\n",
       "      <td>Air conditioning: ;Alarm clock: ;Bathrobes: ;B...</td>\n",
       "      <td>Room size: 25 m²/269 ft², Non-smoking, Shower ...</td>\n",
       "    </tr>\n",
       "    <tr>\n",
       "      <th>92479</th>\n",
       "      <td>The Manor Hotel Heathrow</td>\n",
       "      <td>4</td>\n",
       "      <td>Village Green, Datchet,</td>\n",
       "      <td>Additional bathroom: ;Additional toilet: ;Air ...</td>\n",
       "      <td>Shower and bathtub, 1 double bed</td>\n",
       "    </tr>\n",
       "  </tbody>\n",
       "</table>\n",
       "</div>"
      ],
      "text/plain": [
       "                                  hotelname  ...                                    ratedescription\n",
       "48985            The Colonnade London Hotel  ...  Room size: 28 m²/301 ft², Balcony/terrace, Non...\n",
       "58663    South Point Suites - London Bridge  ...  Room size: 24 m²/258 ft², Street view, Non-smo...\n",
       "106943  Doubletree by Hilton London Chelsea  ...  Room size: 20 m²/215 ft², Street view, Non-smo...\n",
       "57452      Sir Christopher Wren Hotel & Spa  ...  Room size: 25 m²/269 ft², Non-smoking, Shower ...\n",
       "92479              The Manor Hotel Heathrow  ...                   Shower and bathtub, 1 double bed\n",
       "\n",
       "[5 rows x 5 columns]"
      ]
     },
     "metadata": {
      "tags": []
     },
     "execution_count": 8
    }
   ]
  },
  {
   "cell_type": "code",
   "metadata": {
    "id": "CED-Z26yCpLy",
    "pycharm": {
     "name": "#%%\n"
    }
   },
   "source": [
    "##没用我觉得\n",
    "room_no=[('king',2),('queen',2), ('triple',3),('master',3),('family',4),('murphy',2),('quad',4),('double-double',4),('mini',2),\n",
    "   ('studio',1),('junior',2),('apartment',4),('double',2),('twin',2),('double-twin',4),('single',1),('diabled',1),('accessible',1),\n",
    "    ('suite',2),('one',2)]\n",
    "\n",
    "def calc():\n",
    "    guests_no=[]\n",
    "    for i in range(hotel.shape[0]):\n",
    "        temp=hotel['roomtype'][i].lower().split()\n",
    "        flag=0\n",
    "        for j in range(len(temp)):\n",
    "            for k in range(len(room_no)):\n",
    "                if temp[j]==room_no[k][0]:\n",
    "                    guests_no.append(room_no[k][1])\n",
    "                    flag=1\n",
    "                    break\n",
    "            if flag==1:\n",
    "                break\n",
    "        if flag==0:\n",
    "            guests_no.append(2)\n",
    "    hotel['guests_no']=guests_no\n",
    "\n",
    "calc()"
   ],
   "execution_count": null,
   "outputs": []
  },
  {
   "cell_type": "code",
   "metadata": {
    "colab": {
     "base_uri": "https://localhost:8080/",
     "height": 529
    },
    "id": "Dn2W3w-wCtey",
    "executionInfo": {
     "status": "ok",
     "timestamp": 1621893920941,
     "user_tz": -180,
     "elapsed": 239,
     "user": {
      "displayName": "丁诺",
      "photoUrl": "",
      "userId": "16957255556963902479"
     }
    },
    "outputId": "dfaa6639-1ad8-414e-dbd5-36de96d387b1",
    "pycharm": {
     "name": "#%%\n"
    }
   },
   "source": [
    "def pop_citybased(city,number):\n",
    "    hotel['city']=hotel['city'].str.lower()\n",
    "    popbased=hotel[hotel['city']==city.lower()]\n",
    "    popbased=popbased[popbased['guests_no']==number].sort_values(by='starrating',ascending=False)\n",
    "    popbased.drop_duplicates(subset='hotelcode',keep='first',inplace=True)\n",
    "    if popbased.empty==True:\n",
    "        print('Sorry No Hotels Available\\n tune your constraints')\n",
    "    else:\n",
    "        return popbased[['hotelname','roomtype','guests_no','starrating','address','roomamenities','ratedescription']].head(10)\n",
    "\n",
    "pop_citybased('London',4)"
   ],
   "execution_count": null,
   "outputs": [
    {
     "output_type": "execute_result",
     "data": {
      "text/html": [
       "<div>\n",
       "<style scoped>\n",
       "    .dataframe tbody tr th:only-of-type {\n",
       "        vertical-align: middle;\n",
       "    }\n",
       "\n",
       "    .dataframe tbody tr th {\n",
       "        vertical-align: top;\n",
       "    }\n",
       "\n",
       "    .dataframe thead th {\n",
       "        text-align: right;\n",
       "    }\n",
       "</style>\n",
       "<table border=\"1\" class=\"dataframe\">\n",
       "  <thead>\n",
       "    <tr style=\"text-align: right;\">\n",
       "      <th></th>\n",
       "      <th>hotelname</th>\n",
       "      <th>roomtype</th>\n",
       "      <th>guests_no</th>\n",
       "      <th>starrating</th>\n",
       "      <th>address</th>\n",
       "      <th>roomamenities</th>\n",
       "      <th>ratedescription</th>\n",
       "    </tr>\n",
       "  </thead>\n",
       "  <tbody>\n",
       "    <tr>\n",
       "      <th>1440</th>\n",
       "      <td>Holiday Inn London - Heathrow T5</td>\n",
       "      <td>Family Room</td>\n",
       "      <td>4</td>\n",
       "      <td>4</td>\n",
       "      <td>Old Bath Road</td>\n",
       "      <td>Air conditioning: ;Alarm clock: ;Blackout curt...</td>\n",
       "      <td>Room size: 25 m²/269 ft², Non-smoking, Separat...</td>\n",
       "    </tr>\n",
       "    <tr>\n",
       "      <th>53496</th>\n",
       "      <td>Mercure London Hyde Park Hotel</td>\n",
       "      <td>Family Room</td>\n",
       "      <td>4</td>\n",
       "      <td>4</td>\n",
       "      <td>8-14 Talbot Square</td>\n",
       "      <td>Air conditioning: ;Desk: ;Free Wi-Fi in all ro...</td>\n",
       "      <td>Room size: 31 m²/334 ft², Non-smoking, 1 singl...</td>\n",
       "    </tr>\n",
       "    <tr>\n",
       "      <th>60734</th>\n",
       "      <td>Hallmark Hotel London Chigwell Prince Regent</td>\n",
       "      <td>Executive Family Room</td>\n",
       "      <td>4</td>\n",
       "      <td>4</td>\n",
       "      <td>Manor Road</td>\n",
       "      <td>Air conditioning: ;Carpeting: ;Closet: ;Clothe...</td>\n",
       "      <td>Non-smoking, Shower and bathtub, 1 double bed</td>\n",
       "    </tr>\n",
       "    <tr>\n",
       "      <th>107246</th>\n",
       "      <td>Radisson Blu Edwardian Kenilworth - Bloomsbury</td>\n",
       "      <td>Family Room 2 adults + 2 children</td>\n",
       "      <td>4</td>\n",
       "      <td>4</td>\n",
       "      <td>97 Great Russell Street</td>\n",
       "      <td>Air conditioning: ;Alarm clock: ;Bathrobes: ;C...</td>\n",
       "      <td>Room size: 20 m²/215 ft², Non-smoking, Shower ...</td>\n",
       "    </tr>\n",
       "    <tr>\n",
       "      <th>55913</th>\n",
       "      <td>Acorn Lodge Gatwick</td>\n",
       "      <td>Family Stay &amp; Park 8 Days</td>\n",
       "      <td>4</td>\n",
       "      <td>4</td>\n",
       "      <td>79 Massetts Road, Horley</td>\n",
       "      <td>Air conditioning: ;Carpeting: ;Closet: ;Coffee...</td>\n",
       "      <td>Shower, 1 double bed and 1 bunk bed</td>\n",
       "    </tr>\n",
       "    <tr>\n",
       "      <th>64171</th>\n",
       "      <td>Gatwick Cambridge Hotel</td>\n",
       "      <td>Family Room</td>\n",
       "      <td>4</td>\n",
       "      <td>4</td>\n",
       "      <td>19 Bonehurst Road, Horley</td>\n",
       "      <td>Air conditioning: ;Alarm clock: ;Carpeting: ;C...</td>\n",
       "      <td>Room size: 15 m²/161 ft², Non-smoking, Shower ...</td>\n",
       "    </tr>\n",
       "    <tr>\n",
       "      <th>96611</th>\n",
       "      <td>Trumbles Gatwick B&amp;B</td>\n",
       "      <td>Family Room (2 Adults and 2 Children) - Number 6</td>\n",
       "      <td>4</td>\n",
       "      <td>4</td>\n",
       "      <td>Stan Hill</td>\n",
       "      <td>Air conditioning: ;Alarm clock: ;Carpeting: ;C...</td>\n",
       "      <td>Room size: 18 m²/194 ft², Shower and bathtub, ...</td>\n",
       "    </tr>\n",
       "    <tr>\n",
       "      <th>97400</th>\n",
       "      <td>Heathrow/Windsor Marriott Hotel</td>\n",
       "      <td>Deluxe Room, Guest room, 2 Double, Family Room</td>\n",
       "      <td>4</td>\n",
       "      <td>4</td>\n",
       "      <td>Ditton Road, Langley</td>\n",
       "      <td>Air conditioning: ;Alarm clock: ;Carpeting: ;C...</td>\n",
       "      <td>Room size: 30 m²/323 ft², Non-smoking, Shower ...</td>\n",
       "    </tr>\n",
       "    <tr>\n",
       "      <th>65811</th>\n",
       "      <td>Atrium Hotel Heathrow</td>\n",
       "      <td>Family 1</td>\n",
       "      <td>4</td>\n",
       "      <td>4</td>\n",
       "      <td>Great south-west road Feltham</td>\n",
       "      <td>Additional toilet: ;Air conditioning: ;Alarm c...</td>\n",
       "      <td>Room size: 28 m²/301 ft², Shower, 2 single bed...</td>\n",
       "    </tr>\n",
       "    <tr>\n",
       "      <th>112259</th>\n",
       "      <td>The Level at Melia White House</td>\n",
       "      <td>The Level Family Room</td>\n",
       "      <td>4</td>\n",
       "      <td>4</td>\n",
       "      <td>Albany Street</td>\n",
       "      <td>Air conditioning: ;Bathrobes: ;Blackout curtai...</td>\n",
       "      <td>Shower and bathtub, Executive lounge access, 1...</td>\n",
       "    </tr>\n",
       "  </tbody>\n",
       "</table>\n",
       "</div>"
      ],
      "text/plain": [
       "                                             hotelname  ...                                    ratedescription\n",
       "1440                  Holiday Inn London - Heathrow T5  ...  Room size: 25 m²/269 ft², Non-smoking, Separat...\n",
       "53496                   Mercure London Hyde Park Hotel  ...  Room size: 31 m²/334 ft², Non-smoking, 1 singl...\n",
       "60734     Hallmark Hotel London Chigwell Prince Regent  ...      Non-smoking, Shower and bathtub, 1 double bed\n",
       "107246  Radisson Blu Edwardian Kenilworth - Bloomsbury  ...  Room size: 20 m²/215 ft², Non-smoking, Shower ...\n",
       "55913                              Acorn Lodge Gatwick  ...                Shower, 1 double bed and 1 bunk bed\n",
       "64171                          Gatwick Cambridge Hotel  ...  Room size: 15 m²/161 ft², Non-smoking, Shower ...\n",
       "96611                             Trumbles Gatwick B&B  ...  Room size: 18 m²/194 ft², Shower and bathtub, ...\n",
       "97400                  Heathrow/Windsor Marriott Hotel  ...  Room size: 30 m²/323 ft², Non-smoking, Shower ...\n",
       "65811                            Atrium Hotel Heathrow  ...  Room size: 28 m²/301 ft², Shower, 2 single bed...\n",
       "112259                  The Level at Melia White House  ...  Shower and bathtub, Executive lounge access, 1...\n",
       "\n",
       "[10 rows x 7 columns]"
      ]
     },
     "metadata": {
      "tags": []
     },
     "execution_count": 11
    }
   ]
  },
  {
   "cell_type": "code",
   "metadata": {
    "colab": {
     "base_uri": "https://localhost:8080/"
    },
    "id": "T-ZKqbblMMwZ",
    "executionInfo": {
     "status": "ok",
     "timestamp": 1621894740903,
     "user_tz": -180,
     "elapsed": 584,
     "user": {
      "displayName": "丁诺",
      "photoUrl": "",
      "userId": "16957255556963902479"
     }
    },
    "outputId": "ae58f052-422f-4a29-dd3f-15a02886b99e",
    "pycharm": {
     "name": "#%%\n"
    }
   },
   "source": [
    "#Requirement And special needs based Recommender\n",
    "\n",
    "import nltk\n",
    "nltk.download('stopwords')\n",
    "nltk.download('wordnet')\n",
    "\n",
    "hotel['roomamenities']=hotel['roomamenities'].str.replace(': ;',',')\n",
    "def requirementbased(city,number,features):\n",
    "    hotel['city']=hotel['city'].str.lower()\n",
    "    hotel['roomamenities']=hotel['roomamenities'].str.lower()\n",
    "    features=features.lower()\n",
    "    features_tokens=word_tokenize(features)  \n",
    "    sw = stopwords.words('english')\n",
    "    lemm = WordNetLemmatizer()\n",
    "    f1_set = {w for w in features_tokens if not w in sw}\n",
    "    f_set=set()\n",
    "    for se in f1_set:\n",
    "        f_set.add(lemm.lemmatize(se))\n",
    "    reqbased=hotel[hotel['city']==city.lower()]\n",
    "    reqbased=reqbased[reqbased['guests_no']==number]\n",
    "    reqbased=reqbased.set_index(np.arange(reqbased.shape[0]))\n",
    "    l1 =[];l2 =[];cos=[];\n",
    "    #print(reqbased['roomamenities'])\n",
    "    for i in range(reqbased.shape[0]):\n",
    "        temp_tokens=word_tokenize(reqbased['roomamenities'][i])\n",
    "        temp1_set={w for w in temp_tokens if not w in sw}\n",
    "        temp_set=set()\n",
    "        for se in temp1_set:\n",
    "            temp_set.add(lemm.lemmatize(se))\n",
    "        rvector = temp_set.intersection(f_set)\n",
    "        #print(rvector)\n",
    "        cos.append(len(rvector))\n",
    "    reqbased['similarity']=cos\n",
    "    reqbased=reqbased.sort_values(by='similarity',ascending=False)\n",
    "    reqbased.drop_duplicates(subset='hotelcode',keep='first',inplace=True)\n",
    "    return reqbased[['hotelname','roomtype','guests_no','starrating','address','roomamenities','ratedescription','similarity']].head(10)"
   ],
   "execution_count": null,
   "outputs": [
    {
     "output_type": "stream",
     "text": [
      "[nltk_data] Downloading package stopwords to /root/nltk_data...\n",
      "[nltk_data]   Package stopwords is already up-to-date!\n",
      "[nltk_data] Downloading package wordnet to /root/nltk_data...\n",
      "[nltk_data]   Unzipping corpora/wordnet.zip.\n"
     ],
     "name": "stdout"
    }
   ]
  },
  {
   "cell_type": "code",
   "metadata": {
    "colab": {
     "base_uri": "https://localhost:8080/",
     "height": 546
    },
    "id": "af5PbWDnMofw",
    "executionInfo": {
     "status": "ok",
     "timestamp": 1621894747057,
     "user_tz": -180,
     "elapsed": 2823,
     "user": {
      "displayName": "丁诺",
      "photoUrl": "",
      "userId": "16957255556963902479"
     }
    },
    "outputId": "cd1ff92f-c0f9-47e8-8257-dfc80a5c2aa0",
    "pycharm": {
     "name": "#%%\n"
    }
   },
   "source": [
    "requirementbased('London',1,'I need a extra toilet and room should be completely air conditioned.')"
   ],
   "execution_count": null,
   "outputs": [
    {
     "output_type": "execute_result",
     "data": {
      "text/html": [
       "<div>\n",
       "<style scoped>\n",
       "    .dataframe tbody tr th:only-of-type {\n",
       "        vertical-align: middle;\n",
       "    }\n",
       "\n",
       "    .dataframe tbody tr th {\n",
       "        vertical-align: top;\n",
       "    }\n",
       "\n",
       "    .dataframe thead th {\n",
       "        text-align: right;\n",
       "    }\n",
       "</style>\n",
       "<table border=\"1\" class=\"dataframe\">\n",
       "  <thead>\n",
       "    <tr style=\"text-align: right;\">\n",
       "      <th></th>\n",
       "      <th>hotelname</th>\n",
       "      <th>roomtype</th>\n",
       "      <th>guests_no</th>\n",
       "      <th>starrating</th>\n",
       "      <th>address</th>\n",
       "      <th>roomamenities</th>\n",
       "      <th>ratedescription</th>\n",
       "      <th>similarity</th>\n",
       "    </tr>\n",
       "  </thead>\n",
       "  <tbody>\n",
       "    <tr>\n",
       "      <th>309</th>\n",
       "      <td>The Colonnade London Hotel</td>\n",
       "      <td>Studio</td>\n",
       "      <td>1</td>\n",
       "      <td>4</td>\n",
       "      <td>2 Warrington Crescent</td>\n",
       "      <td>additional toilet,air conditioning,alarm clock...</td>\n",
       "      <td>Room size: 28 m²/301 ft², Balcony/terrace, Non...</td>\n",
       "      <td>3</td>\n",
       "    </tr>\n",
       "    <tr>\n",
       "      <th>927</th>\n",
       "      <td>The Cleveland Hotel</td>\n",
       "      <td>Studio Suite</td>\n",
       "      <td>1</td>\n",
       "      <td>4</td>\n",
       "      <td>39-40 Cleveland Square</td>\n",
       "      <td>air conditioning,carpeting,closet,clothes rack...</td>\n",
       "      <td>Room size: 15 m²/161 ft², Non-smoking, Shower,...</td>\n",
       "      <td>3</td>\n",
       "    </tr>\n",
       "    <tr>\n",
       "      <th>286</th>\n",
       "      <td>Best Western Palm Hotel</td>\n",
       "      <td>Standard Room With Three Single Beds</td>\n",
       "      <td>1</td>\n",
       "      <td>3</td>\n",
       "      <td>64-76 Hendon Way</td>\n",
       "      <td>additional toilet,air conditioning,carpeting,c...</td>\n",
       "      <td>Room size: 28 m²/301 ft², Bathtub, 3 single beds</td>\n",
       "      <td>3</td>\n",
       "    </tr>\n",
       "    <tr>\n",
       "      <th>77</th>\n",
       "      <td>Little Foxes Hotel</td>\n",
       "      <td>Single - 1 Person</td>\n",
       "      <td>1</td>\n",
       "      <td>3</td>\n",
       "      <td>Charlwood Road, Crawley, West sussex</td>\n",
       "      <td>additional toilet,air conditioning,alarm clock...</td>\n",
       "      <td>Room size: 15 m²/161 ft², Country/region view,...</td>\n",
       "      <td>3</td>\n",
       "    </tr>\n",
       "    <tr>\n",
       "      <th>1092</th>\n",
       "      <td>Holiday Inn London - Heathrow Ariel</td>\n",
       "      <td>2 Single Beds Non-smoking</td>\n",
       "      <td>1</td>\n",
       "      <td>3</td>\n",
       "      <td>118 Bath Road</td>\n",
       "      <td>additional toilet,air conditioning,carpeting,c...</td>\n",
       "      <td>Room size: 25 m²/269 ft², Non-smoking, Shower ...</td>\n",
       "      <td>3</td>\n",
       "    </tr>\n",
       "    <tr>\n",
       "      <th>88</th>\n",
       "      <td>Belgrave Hotel Oval</td>\n",
       "      <td>Single Room</td>\n",
       "      <td>1</td>\n",
       "      <td>4</td>\n",
       "      <td>9-13 Clapham Road</td>\n",
       "      <td>additional toilet,air conditioning,carpeting,c...</td>\n",
       "      <td>Room size: 10 m²/108 ft², Non-smoking, Shower,...</td>\n",
       "      <td>3</td>\n",
       "    </tr>\n",
       "    <tr>\n",
       "      <th>793</th>\n",
       "      <td>Holiday Inn Express Park Royal</td>\n",
       "      <td>2 Single Beds Non-smoking</td>\n",
       "      <td>1</td>\n",
       "      <td>3</td>\n",
       "      <td>Victoria RoadNorth Acton</td>\n",
       "      <td>air conditioning,alarm clock,carpeting,closet,...</td>\n",
       "      <td>Room size: 25 m²/269 ft², Non-smoking, Shower,...</td>\n",
       "      <td>3</td>\n",
       "    </tr>\n",
       "    <tr>\n",
       "      <th>407</th>\n",
       "      <td>South Point Suites - London Bridge</td>\n",
       "      <td>Deluxe Studio Suite</td>\n",
       "      <td>1</td>\n",
       "      <td>4</td>\n",
       "      <td>Bermondsey Street</td>\n",
       "      <td>additional bathroom,additional toilet,air cond...</td>\n",
       "      <td>Room size: 45 m²/484 ft², 2 bathrooms, Shower,...</td>\n",
       "      <td>3</td>\n",
       "    </tr>\n",
       "    <tr>\n",
       "      <th>816</th>\n",
       "      <td>Simply Rooms &amp; Suites Hotel</td>\n",
       "      <td>Deluxe Studio Suite</td>\n",
       "      <td>1</td>\n",
       "      <td>4</td>\n",
       "      <td>21 Avonmore Road</td>\n",
       "      <td>additional toilet,air conditioning,cleaning pr...</td>\n",
       "      <td>Room size: 20 m²/215 ft², City view, Non-smoki...</td>\n",
       "      <td>3</td>\n",
       "    </tr>\n",
       "    <tr>\n",
       "      <th>729</th>\n",
       "      <td>Hilton London Olympia Hotel</td>\n",
       "      <td>Single Hilton Guestroom</td>\n",
       "      <td>1</td>\n",
       "      <td>4</td>\n",
       "      <td>380 Kensington High Street</td>\n",
       "      <td>additional toilet,air conditioning,alarm clock...</td>\n",
       "      <td>Room size: 15 m²/161 ft², Non-smoking, Separat...</td>\n",
       "      <td>3</td>\n",
       "    </tr>\n",
       "  </tbody>\n",
       "</table>\n",
       "</div>"
      ],
      "text/plain": [
       "                                hotelname  ... similarity\n",
       "309            The Colonnade London Hotel  ...          3\n",
       "927                   The Cleveland Hotel  ...          3\n",
       "286               Best Western Palm Hotel  ...          3\n",
       "77                     Little Foxes Hotel  ...          3\n",
       "1092  Holiday Inn London - Heathrow Ariel  ...          3\n",
       "88                    Belgrave Hotel Oval  ...          3\n",
       "793        Holiday Inn Express Park Royal  ...          3\n",
       "407    South Point Suites - London Bridge  ...          3\n",
       "816           Simply Rooms & Suites Hotel  ...          3\n",
       "729           Hilton London Olympia Hotel  ...          3\n",
       "\n",
       "[10 rows x 8 columns]"
      ]
     },
     "metadata": {
      "tags": []
     },
     "execution_count": 27
    }
   ]
  }
 ]
}