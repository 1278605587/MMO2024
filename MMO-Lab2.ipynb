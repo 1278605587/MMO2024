{
 "cells": [
  {
   "cell_type": "code",
   "execution_count": 1,
   "metadata": {
    "pycharm": {
     "name": "#%%\n"
    }
   },
   "outputs": [
    {
     "data": {
      "text/plain": [
       "<bound method NDFrame.head of       country iso_code        date  total_vaccinations  \\\n",
       "0     Albania      ALB  2021-01-10                 0.0   \n",
       "1     Albania      ALB  2021-01-11                 NaN   \n",
       "2     Albania      ALB  2021-01-12               128.0   \n",
       "3     Albania      ALB  2021-01-13               188.0   \n",
       "4     Albania      ALB  2021-01-14               266.0   \n",
       "...       ...      ...         ...                 ...   \n",
       "3307    Wales      NaN  2021-02-11            719954.0   \n",
       "3308    Wales      NaN  2021-02-12            753669.0   \n",
       "3309    Wales      NaN  2021-02-13            776224.0   \n",
       "3310    Wales      NaN  2021-02-14            790211.0   \n",
       "3311    Wales      NaN  2021-02-15            803178.0   \n",
       "\n",
       "      people_vaccinated  people_fully_vaccinated  \\\n",
       "0                   0.0                      NaN   \n",
       "1                   NaN                      NaN   \n",
       "2                 128.0                      NaN   \n",
       "3                 188.0                      NaN   \n",
       "4                 266.0                      NaN   \n",
       "...                 ...                      ...   \n",
       "3307           715944.0                   4010.0   \n",
       "3308           749445.0                   4224.0   \n",
       "3309           771651.0                   4573.0   \n",
       "3310           784809.0                   5402.0   \n",
       "3311           795927.0                   7251.0   \n",
       "\n",
       "      daily_vaccinations_raw  daily_vaccinations  \\\n",
       "0                        NaN                 NaN   \n",
       "1                        NaN                64.0   \n",
       "2                        NaN                64.0   \n",
       "3                       60.0                63.0   \n",
       "4                       78.0                66.0   \n",
       "...                      ...                 ...   \n",
       "3307                 32062.0             27897.0   \n",
       "3308                 33715.0             27743.0   \n",
       "3309                 22555.0             26285.0   \n",
       "3310                 13987.0             26206.0   \n",
       "3311                 12967.0             24418.0   \n",
       "\n",
       "      total_vaccinations_per_hundred  people_vaccinated_per_hundred  \\\n",
       "0                               0.00                           0.00   \n",
       "1                                NaN                            NaN   \n",
       "2                               0.00                           0.00   \n",
       "3                               0.01                           0.01   \n",
       "4                               0.01                           0.01   \n",
       "...                              ...                            ...   \n",
       "3307                           22.83                          22.71   \n",
       "3308                           23.90                          23.77   \n",
       "3309                           24.62                          24.47   \n",
       "3310                           25.06                          24.89   \n",
       "3311                           25.47                          25.24   \n",
       "\n",
       "      people_fully_vaccinated_per_hundred  \\\n",
       "0                                     NaN   \n",
       "1                                     NaN   \n",
       "2                                     NaN   \n",
       "3                                     NaN   \n",
       "4                                     NaN   \n",
       "...                                   ...   \n",
       "3307                                 0.13   \n",
       "3308                                 0.13   \n",
       "3309                                 0.15   \n",
       "3310                                 0.17   \n",
       "3311                                 0.23   \n",
       "\n",
       "      daily_vaccinations_per_million  \\\n",
       "0                                NaN   \n",
       "1                               22.0   \n",
       "2                               22.0   \n",
       "3                               22.0   \n",
       "4                               23.0   \n",
       "...                              ...   \n",
       "3307                          8848.0   \n",
       "3308                          8799.0   \n",
       "3309                          8337.0   \n",
       "3310                          8312.0   \n",
       "3311                          7745.0   \n",
       "\n",
       "                                 vaccines  \\\n",
       "0                         Pfizer/BioNTech   \n",
       "1                         Pfizer/BioNTech   \n",
       "2                         Pfizer/BioNTech   \n",
       "3                         Pfizer/BioNTech   \n",
       "4                         Pfizer/BioNTech   \n",
       "...                                   ...   \n",
       "3307  Oxford/AstraZeneca, Pfizer/BioNTech   \n",
       "3308  Oxford/AstraZeneca, Pfizer/BioNTech   \n",
       "3309  Oxford/AstraZeneca, Pfizer/BioNTech   \n",
       "3310  Oxford/AstraZeneca, Pfizer/BioNTech   \n",
       "3311  Oxford/AstraZeneca, Pfizer/BioNTech   \n",
       "\n",
       "                           source_name  \\\n",
       "0                   Ministry of Health   \n",
       "1                   Ministry of Health   \n",
       "2                   Ministry of Health   \n",
       "3                   Ministry of Health   \n",
       "4                   Ministry of Health   \n",
       "...                                ...   \n",
       "3307  Government of the United Kingdom   \n",
       "3308  Government of the United Kingdom   \n",
       "3309  Government of the United Kingdom   \n",
       "3310  Government of the United Kingdom   \n",
       "3311  Government of the United Kingdom   \n",
       "\n",
       "                                         source_website  \n",
       "0     https://shendetesia.gov.al/vaksinimi-anticovid...  \n",
       "1     https://shendetesia.gov.al/vaksinimi-anticovid...  \n",
       "2     https://shendetesia.gov.al/vaksinimi-anticovid...  \n",
       "3     https://shendetesia.gov.al/vaksinimi-anticovid...  \n",
       "4     https://shendetesia.gov.al/vaksinimi-anticovid...  \n",
       "...                                                 ...  \n",
       "3307  https://coronavirus.data.gov.uk/details/health...  \n",
       "3308  https://coronavirus.data.gov.uk/details/health...  \n",
       "3309  https://coronavirus.data.gov.uk/details/health...  \n",
       "3310  https://coronavirus.data.gov.uk/details/health...  \n",
       "3311  https://coronavirus.data.gov.uk/details/health...  \n",
       "\n",
       "[3312 rows x 15 columns]>"
      ]
     },
     "execution_count": 1,
     "metadata": {},
     "output_type": "execute_result"
    }
   ],
   "source": [
    "import numpy as np\n",
    "import pandas as pd\n",
    "import seaborn as sns\n",
    "import sklearn.impute\n",
    "import sklearn.preprocessing\n",
    "\n",
    "pd.set_option(\"display.width\",70)\n",
    "data=pd.read_csv(\"covid19.csv\")\n",
    "data.head"
   ]
  },
  {
   "cell_type": "code",
   "execution_count": 2,
   "metadata": {
    "pycharm": {
     "name": "#%%\n"
    }
   },
   "outputs": [
    {
     "data": {
      "text/plain": [
       "country                                 object\n",
       "iso_code                                object\n",
       "date                                    object\n",
       "total_vaccinations                     float64\n",
       "people_vaccinated                      float64\n",
       "people_fully_vaccinated                float64\n",
       "daily_vaccinations_raw                 float64\n",
       "daily_vaccinations                     float64\n",
       "total_vaccinations_per_hundred         float64\n",
       "people_vaccinated_per_hundred          float64\n",
       "people_fully_vaccinated_per_hundred    float64\n",
       "daily_vaccinations_per_million         float64\n",
       "vaccines                                object\n",
       "source_name                             object\n",
       "source_website                          object\n",
       "dtype: object"
      ]
     },
     "execution_count": 2,
     "metadata": {},
     "output_type": "execute_result"
    }
   ],
   "source": [
    "data.dtypes"
   ]
  },
  {
   "cell_type": "code",
   "execution_count": 3,
   "metadata": {
    "pycharm": {
     "name": "#%%\n"
    }
   },
   "outputs": [
    {
     "data": {
      "text/plain": [
       "(3312, 15)"
      ]
     },
     "execution_count": 3,
     "metadata": {},
     "output_type": "execute_result"
    }
   ],
   "source": [
    "data.shape"
   ]
  },
  {
   "cell_type": "code",
   "execution_count": 4,
   "metadata": {
    "pycharm": {
     "name": "#%%\n"
    }
   },
   "outputs": [
    {
     "data": {
      "text/plain": [
       "country                                   0\n",
       "iso_code                                260\n",
       "date                                      0\n",
       "total_vaccinations                     1167\n",
       "people_vaccinated                      1538\n",
       "people_fully_vaccinated                2175\n",
       "daily_vaccinations_raw                 1528\n",
       "daily_vaccinations                      126\n",
       "total_vaccinations_per_hundred         1167\n",
       "people_vaccinated_per_hundred          1538\n",
       "people_fully_vaccinated_per_hundred    2175\n",
       "daily_vaccinations_per_million          126\n",
       "vaccines                                  0\n",
       "source_name                               0\n",
       "source_website                            0\n",
       "dtype: int64"
      ]
     },
     "execution_count": 4,
     "metadata": {},
     "output_type": "execute_result"
    }
   ],
   "source": [
    "data.isnull().sum()   #Обработка пропусков в данных"
   ]
  },
  {
   "cell_type": "code",
   "execution_count": 21,
   "metadata": {
    "pycharm": {
     "name": "#%%\n"
    }
   },
   "outputs": [
    {
     "name": "stderr",
     "output_type": "stream",
     "text": [
      "/Users/ding/opt/anaconda3/lib/python3.8/site-packages/seaborn/distributions.py:2551: FutureWarning: `distplot` is a deprecated function and will be removed in a future version. Please adapt your code to use either `displot` (a figure-level function with similar flexibility) or `histplot` (an axes-level function for histograms).\n",
      "  warnings.warn(msg, FutureWarning)\n"
     ]
    },
    {
     "data": {
      "image/png": "[encoded data removed]",
      "text/plain": [
       "<Figure size 432x288 with 1 Axes>"
      ]
     },
     "metadata": {
      "needs_background": "light"
     },
     "output_type": "display_data"
    }
   ],
   "source": [
    "sns.distplot(data['people_fully_vaccinated_per_hundred'].fillna(0));"
   ]
  },
  {
   "cell_type": "code",
   "execution_count": null,
   "metadata": {
    "pycharm": {
     "name": "#%%\n"
    }
   },
   "outputs": [],
   "source": []
  },
  {
   "cell_type": "code",
   "execution_count": null,
   "metadata": {
    "pycharm": {
     "name": "#%%\n"
    }
   },
   "outputs": [],
   "source": []
  },
  {
   "cell_type": "code",
   "execution_count": null,
   "metadata": {
    "pycharm": {
     "name": "#%%\n"
    }
   },
   "outputs": [],
   "source": []
  },
  {
   "cell_type": "code",
   "execution_count": 22,
   "metadata": {
    "pycharm": {
     "name": "#%%\n"
    }
   },
   "outputs": [
    {
     "name": "stderr",
     "output_type": "stream",
     "text": [
      "/Users/ding/opt/anaconda3/lib/python3.8/site-packages/seaborn/distributions.py:2551: FutureWarning: `distplot` is a deprecated function and will be removed in a future version. Please adapt your code to use either `displot` (a figure-level function with similar flexibility) or `histplot` (an axes-level function for histograms).\n",
      "  warnings.warn(msg, FutureWarning)\n"
     ]
    },
    {
     "data": {
      "image/png": "[encoded data removed]",
      "text/plain": [
       "<Figure size 432x288 with 1 Axes>"
      ]
     },
     "metadata": {
      "needs_background": "light"
     },
     "output_type": "display_data"
    }
   ],
   "source": [
    "mean_imp = sklearn.impute.SimpleImputer(strategy=\"mean\")\n",
    "mean_rat = mean_imp.fit_transform(data[[\"people_fully_vaccinated_per_hundred\"]])\n",
    "sns.distplot(mean_rat);"
   ]
  },
  {
   "cell_type": "code",
   "execution_count": 23,
   "metadata": {
    "pycharm": {
     "name": "#%%\n"
    }
   },
   "outputs": [
    {
     "name": "stderr",
     "output_type": "stream",
     "text": [
      "/Users/ding/opt/anaconda3/lib/python3.8/site-packages/seaborn/distributions.py:2551: FutureWarning: `distplot` is a deprecated function and will be removed in a future version. Please adapt your code to use either `displot` (a figure-level function with similar flexibility) or `histplot` (an axes-level function for histograms).\n",
      "  warnings.warn(msg, FutureWarning)\n"
     ]
    },
    {
     "data": {
      "image/png": "[encoded data removed]",
      "text/plain": [
       "<Figure size 432x288 with 1 Axes>"
      ]
     },
     "metadata": {
      "needs_background": "light"
     },
     "output_type": "display_data"
    }
   ],
   "source": [
    "med_imp = sklearn.impute.SimpleImputer(strategy=\"median\")\n",
    "med_rat = med_imp.fit_transform(data[[\"people_fully_vaccinated_per_hundred\"]])\n",
    "sns.distplot(med_rat);"
   ]
  },
  {
   "cell_type": "code",
   "execution_count": 24,
   "metadata": {
    "pycharm": {
     "name": "#%%\n"
    }
   },
   "outputs": [
    {
     "name": "stderr",
     "output_type": "stream",
     "text": [
      "/Users/ding/opt/anaconda3/lib/python3.8/site-packages/seaborn/distributions.py:2551: FutureWarning: `distplot` is a deprecated function and will be removed in a future version. Please adapt your code to use either `displot` (a figure-level function with similar flexibility) or `histplot` (an axes-level function for histograms).\n",
      "  warnings.warn(msg, FutureWarning)\n"
     ]
    },
    {
     "data": {
      "image/png": "[encoded data removed]",
      "text/plain": [
       "<Figure size 432x288 with 1 Axes>"
      ]
     },
     "metadata": {
      "needs_background": "light"
     },
     "output_type": "display_data"
    }
   ],
   "source": [
    "freq_imp = sklearn.impute.SimpleImputer(strategy=\"most_frequent\")\n",
    "freq_rat = freq_imp.fit_transform(data[[\"people_fully_vaccinated_per_hundred\"]])\n",
    "sns.distplot(freq_rat);"
   ]
  },
  {
   "cell_type": "code",
   "execution_count": 25,
   "metadata": {
    "pycharm": {
     "name": "#%%\n"
    }
   },
   "outputs": [],
   "source": [
    "data[\"people_fully_vaccinated_per_hundred\"] = mean_rat"
   ]
  },
  {
   "cell_type": "code",
   "execution_count": 20,
   "metadata": {
    "pycharm": {
     "name": "#%%\n"
    }
   },
   "outputs": [
    {
     "data": {
      "text/plain": [
       "Moderna, Oxford/AstraZeneca, Pfizer/BioNTech                                          970\n",
       "Pfizer/BioNTech                                                                       771\n",
       "Oxford/AstraZeneca, Pfizer/BioNTech                                                   521\n",
       "Moderna, Pfizer/BioNTech                                                              327\n",
       "Sputnik V                                                                             127\n",
       "Oxford/AstraZeneca                                                                     99\n",
       "Sinovac                                                                                71\n",
       "Pfizer/BioNTech, Sinovac                                                               64\n",
       "Sinopharm/Beijing, Sinopharm/Wuhan, Sinovac                                            57\n",
       "Pfizer/BioNTech, Sinopharm/Beijing                                                     56\n",
       "Oxford/AstraZeneca, Sinopharm/Beijing                                                  56\n",
       "Oxford/AstraZeneca, Pfizer/BioNTech, Sinopharm/Beijing, Sinopharm/Wuhan, Sputnik V     43\n",
       "Pfizer/BioNTech, Sinopharm/Beijing, Sputnik V                                          38\n",
       "Covaxin, Oxford/AstraZeneca                                                            33\n",
       "Oxford/AstraZeneca, Sinovac                                                            32\n",
       "Oxford/AstraZeneca, Sputnik V                                                          21\n",
       "Sinopharm/Beijing                                                                      17\n",
       "Oxford/AstraZeneca, Sinopharm/Beijing, Sputnik V                                        9\n",
       "Name: vaccines, dtype: int64"
      ]
     },
     "execution_count": 20,
     "metadata": {},
     "output_type": "execute_result"
    }
   ],
   "source": [
    "vaccines1 = data[\"vaccines\"].dropna().astype(str)  #Кодирование категориальных признаков\n",
    "vaccines1.value_counts()"
   ]
  },
  {
   "cell_type": "code",
   "execution_count": 28,
   "metadata": {
    "pycharm": {
     "name": "#%%\n"
    }
   },
   "outputs": [
    {
     "name": "stdout",
     "output_type": "stream",
     "text": [
      "[ 0  1  2  3  4  5  6  7  8  9 10 11 12 13 14 15 16 17]\n"
     ]
    },
    {
     "data": {
      "text/plain": [
       "array(['Covaxin, Oxford/AstraZeneca',\n",
       "       'Moderna, Oxford/AstraZeneca, Pfizer/BioNTech',\n",
       "       'Moderna, Pfizer/BioNTech', 'Oxford/AstraZeneca',\n",
       "       'Oxford/AstraZeneca, Pfizer/BioNTech',\n",
       "       'Oxford/AstraZeneca, Pfizer/BioNTech, Sinopharm/Beijing, Sinopharm/Wuhan, Sputnik V',\n",
       "       'Oxford/AstraZeneca, Sinopharm/Beijing',\n",
       "       'Oxford/AstraZeneca, Sinopharm/Beijing, Sputnik V',\n",
       "       'Oxford/AstraZeneca, Sinovac', 'Oxford/AstraZeneca, Sputnik V',\n",
       "       'Pfizer/BioNTech', 'Pfizer/BioNTech, Sinopharm/Beijing',\n",
       "       'Pfizer/BioNTech, Sinopharm/Beijing, Sputnik V',\n",
       "       'Pfizer/BioNTech, Sinovac', 'Sinopharm/Beijing',\n",
       "       'Sinopharm/Beijing, Sinopharm/Wuhan, Sinovac', 'Sinovac',\n",
       "       'Sputnik V'], dtype=object)"
      ]
     },
     "execution_count": 28,
     "metadata": {},
     "output_type": "execute_result"
    }
   ],
   "source": [
    " le = sklearn.preprocessing.LabelEncoder()\n",
    "vaccines1_le = le.fit_transform(vaccines1)\n",
    "print(np.unique(vaccines1_le))\n",
    "le.inverse_transform(np.unique(vaccines1_le))"
   ]
  },
  {
   "cell_type": "code",
   "execution_count": 29,
   "metadata": {
    "pycharm": {
     "name": "#%%\n"
    }
   },
   "outputs": [
    {
     "data": {
      "text/html": [
       "<div>\n",
       "<style scoped>\n",
       "    .dataframe tbody tr th:only-of-type {\n",
       "        vertical-align: middle;\n",
       "    }\n",
       "\n",
       "    .dataframe tbody tr th {\n",
       "        vertical-align: top;\n",
       "    }\n",
       "\n",
       "    .dataframe thead th {\n",
       "        text-align: right;\n",
       "    }\n",
       "</style>\n",
       "<table border=\"1\" class=\"dataframe\">\n",
       "  <thead>\n",
       "    <tr style=\"text-align: right;\">\n",
       "      <th></th>\n",
       "      <th>Covaxin, Oxford/AstraZeneca</th>\n",
       "      <th>Moderna, Oxford/AstraZeneca, Pfizer/BioNTech</th>\n",
       "      <th>Moderna, Pfizer/BioNTech</th>\n",
       "      <th>Oxford/AstraZeneca</th>\n",
       "      <th>Oxford/AstraZeneca, Pfizer/BioNTech</th>\n",
       "      <th>Oxford/AstraZeneca, Pfizer/BioNTech, Sinopharm/Beijing, Sinopharm/Wuhan, Sputnik V</th>\n",
       "      <th>Oxford/AstraZeneca, Sinopharm/Beijing</th>\n",
       "      <th>Oxford/AstraZeneca, Sinopharm/Beijing, Sputnik V</th>\n",
       "      <th>Oxford/AstraZeneca, Sinovac</th>\n",
       "      <th>Oxford/AstraZeneca, Sputnik V</th>\n",
       "      <th>Pfizer/BioNTech</th>\n",
       "      <th>Pfizer/BioNTech, Sinopharm/Beijing</th>\n",
       "      <th>Pfizer/BioNTech, Sinopharm/Beijing, Sputnik V</th>\n",
       "      <th>Pfizer/BioNTech, Sinovac</th>\n",
       "      <th>Sinopharm/Beijing</th>\n",
       "      <th>Sinopharm/Beijing, Sinopharm/Wuhan, Sinovac</th>\n",
       "      <th>Sinovac</th>\n",
       "      <th>Sputnik V</th>\n",
       "    </tr>\n",
       "  </thead>\n",
       "  <tbody>\n",
       "    <tr>\n",
       "      <th>0</th>\n",
       "      <td>0</td>\n",
       "      <td>0</td>\n",
       "      <td>0</td>\n",
       "      <td>0</td>\n",
       "      <td>0</td>\n",
       "      <td>0</td>\n",
       "      <td>0</td>\n",
       "      <td>0</td>\n",
       "      <td>0</td>\n",
       "      <td>0</td>\n",
       "      <td>1</td>\n",
       "      <td>0</td>\n",
       "      <td>0</td>\n",
       "      <td>0</td>\n",
       "      <td>0</td>\n",
       "      <td>0</td>\n",
       "      <td>0</td>\n",
       "      <td>0</td>\n",
       "    </tr>\n",
       "    <tr>\n",
       "      <th>1</th>\n",
       "      <td>0</td>\n",
       "      <td>0</td>\n",
       "      <td>0</td>\n",
       "      <td>0</td>\n",
       "      <td>0</td>\n",
       "      <td>0</td>\n",
       "      <td>0</td>\n",
       "      <td>0</td>\n",
       "      <td>0</td>\n",
       "      <td>0</td>\n",
       "      <td>1</td>\n",
       "      <td>0</td>\n",
       "      <td>0</td>\n",
       "      <td>0</td>\n",
       "      <td>0</td>\n",
       "      <td>0</td>\n",
       "      <td>0</td>\n",
       "      <td>0</td>\n",
       "    </tr>\n",
       "    <tr>\n",
       "      <th>2</th>\n",
       "      <td>0</td>\n",
       "      <td>0</td>\n",
       "      <td>0</td>\n",
       "      <td>0</td>\n",
       "      <td>0</td>\n",
       "      <td>0</td>\n",
       "      <td>0</td>\n",
       "      <td>0</td>\n",
       "      <td>0</td>\n",
       "      <td>0</td>\n",
       "      <td>1</td>\n",
       "      <td>0</td>\n",
       "      <td>0</td>\n",
       "      <td>0</td>\n",
       "      <td>0</td>\n",
       "      <td>0</td>\n",
       "      <td>0</td>\n",
       "      <td>0</td>\n",
       "    </tr>\n",
       "    <tr>\n",
       "      <th>3</th>\n",
       "      <td>0</td>\n",
       "      <td>0</td>\n",
       "      <td>0</td>\n",
       "      <td>0</td>\n",
       "      <td>0</td>\n",
       "      <td>0</td>\n",
       "      <td>0</td>\n",
       "      <td>0</td>\n",
       "      <td>0</td>\n",
       "      <td>0</td>\n",
       "      <td>1</td>\n",
       "      <td>0</td>\n",
       "      <td>0</td>\n",
       "      <td>0</td>\n",
       "      <td>0</td>\n",
       "      <td>0</td>\n",
       "      <td>0</td>\n",
       "      <td>0</td>\n",
       "    </tr>\n",
       "    <tr>\n",
       "      <th>4</th>\n",
       "      <td>0</td>\n",
       "      <td>0</td>\n",
       "      <td>0</td>\n",
       "      <td>0</td>\n",
       "      <td>0</td>\n",
       "      <td>0</td>\n",
       "      <td>0</td>\n",
       "      <td>0</td>\n",
       "      <td>0</td>\n",
       "      <td>0</td>\n",
       "      <td>1</td>\n",
       "      <td>0</td>\n",
       "      <td>0</td>\n",
       "      <td>0</td>\n",
       "      <td>0</td>\n",
       "      <td>0</td>\n",
       "      <td>0</td>\n",
       "      <td>0</td>\n",
       "    </tr>\n",
       "  </tbody>\n",
       "</table>\n",
       "</div>"
      ],
      "text/plain": [
       "   Covaxin, Oxford/AstraZeneca  \\\n",
       "0                            0   \n",
       "1                            0   \n",
       "2                            0   \n",
       "3                            0   \n",
       "4                            0   \n",
       "\n",
       "   Moderna, Oxford/AstraZeneca, Pfizer/BioNTech  \\\n",
       "0                                             0   \n",
       "1                                             0   \n",
       "2                                             0   \n",
       "3                                             0   \n",
       "4                                             0   \n",
       "\n",
       "   Moderna, Pfizer/BioNTech  Oxford/AstraZeneca  \\\n",
       "0                         0                   0   \n",
       "1                         0                   0   \n",
       "2                         0                   0   \n",
       "3                         0                   0   \n",
       "4                         0                   0   \n",
       "\n",
       "   Oxford/AstraZeneca, Pfizer/BioNTech  \\\n",
       "0                                    0   \n",
       "1                                    0   \n",
       "2                                    0   \n",
       "3                                    0   \n",
       "4                                    0   \n",
       "\n",
       "   Oxford/AstraZeneca, Pfizer/BioNTech, Sinopharm/Beijing, Sinopharm/Wuhan, Sputnik V  \\\n",
       "0                                                  0                                    \n",
       "1                                                  0                                    \n",
       "2                                                  0                                    \n",
       "3                                                  0                                    \n",
       "4                                                  0                                    \n",
       "\n",
       "   Oxford/AstraZeneca, Sinopharm/Beijing  \\\n",
       "0                                      0   \n",
       "1                                      0   \n",
       "2                                      0   \n",
       "3                                      0   \n",
       "4                                      0   \n",
       "\n",
       "   Oxford/AstraZeneca, Sinopharm/Beijing, Sputnik V  \\\n",
       "0                                                 0   \n",
       "1                                                 0   \n",
       "2                                                 0   \n",
       "3                                                 0   \n",
       "4                                                 0   \n",
       "\n",
       "   Oxford/AstraZeneca, Sinovac  Oxford/AstraZeneca, Sputnik V  \\\n",
       "0                            0                              0   \n",
       "1                            0                              0   \n",
       "2                            0                              0   \n",
       "3                            0                              0   \n",
       "4                            0                              0   \n",
       "\n",
       "   Pfizer/BioNTech  Pfizer/BioNTech, Sinopharm/Beijing  \\\n",
       "0                1                                   0   \n",
       "1                1                                   0   \n",
       "2                1                                   0   \n",
       "3                1                                   0   \n",
       "4                1                                   0   \n",
       "\n",
       "   Pfizer/BioNTech, Sinopharm/Beijing, Sputnik V  \\\n",
       "0                                              0   \n",
       "1                                              0   \n",
       "2                                              0   \n",
       "3                                              0   \n",
       "4                                              0   \n",
       "\n",
       "   Pfizer/BioNTech, Sinovac  Sinopharm/Beijing  \\\n",
       "0                         0                  0   \n",
       "1                         0                  0   \n",
       "2                         0                  0   \n",
       "3                         0                  0   \n",
       "4                         0                  0   \n",
       "\n",
       "   Sinopharm/Beijing, Sinopharm/Wuhan, Sinovac  Sinovac  Sputnik V  \n",
       "0                                            0        0          0  \n",
       "1                                            0        0          0  \n",
       "2                                            0        0          0  \n",
       "3                                            0        0          0  \n",
       "4                                            0        0          0  "
      ]
     },
     "execution_count": 29,
     "metadata": {},
     "output_type": "execute_result"
    }
   ],
   "source": [
    "vaccines_oh = pd.get_dummies(vaccines1)\n",
    "vaccines_oh.head()"
   ]
  },
  {
   "cell_type": "code",
   "execution_count": 30,
   "metadata": {
    "pycharm": {
     "name": "#%%\n"
    }
   },
   "outputs": [
    {
     "data": {
      "text/html": [
       "<div>\n",
       "<style scoped>\n",
       "    .dataframe tbody tr th:only-of-type {\n",
       "        vertical-align: middle;\n",
       "    }\n",
       "\n",
       "    .dataframe tbody tr th {\n",
       "        vertical-align: top;\n",
       "    }\n",
       "\n",
       "    .dataframe thead th {\n",
       "        text-align: right;\n",
       "    }\n",
       "</style>\n",
       "<table border=\"1\" class=\"dataframe\">\n",
       "  <thead>\n",
       "    <tr style=\"text-align: right;\">\n",
       "      <th></th>\n",
       "      <th>Covaxin, Oxford/AstraZeneca</th>\n",
       "      <th>Moderna, Oxford/AstraZeneca, Pfizer/BioNTech</th>\n",
       "      <th>Moderna, Pfizer/BioNTech</th>\n",
       "      <th>Oxford/AstraZeneca</th>\n",
       "      <th>Oxford/AstraZeneca, Pfizer/BioNTech</th>\n",
       "      <th>Oxford/AstraZeneca, Pfizer/BioNTech, Sinopharm/Beijing, Sinopharm/Wuhan, Sputnik V</th>\n",
       "      <th>Oxford/AstraZeneca, Sinopharm/Beijing</th>\n",
       "      <th>Oxford/AstraZeneca, Sinopharm/Beijing, Sputnik V</th>\n",
       "      <th>Oxford/AstraZeneca, Sinovac</th>\n",
       "      <th>Oxford/AstraZeneca, Sputnik V</th>\n",
       "      <th>Pfizer/BioNTech</th>\n",
       "      <th>Pfizer/BioNTech, Sinopharm/Beijing</th>\n",
       "      <th>Pfizer/BioNTech, Sinopharm/Beijing, Sputnik V</th>\n",
       "      <th>Pfizer/BioNTech, Sinovac</th>\n",
       "      <th>Sinopharm/Beijing</th>\n",
       "      <th>Sinopharm/Beijing, Sinopharm/Wuhan, Sinovac</th>\n",
       "      <th>Sinovac</th>\n",
       "      <th>Sputnik V</th>\n",
       "    </tr>\n",
       "  </thead>\n",
       "  <tbody>\n",
       "    <tr>\n",
       "      <th>31</th>\n",
       "      <td>0</td>\n",
       "      <td>0</td>\n",
       "      <td>0</td>\n",
       "      <td>0</td>\n",
       "      <td>0</td>\n",
       "      <td>0</td>\n",
       "      <td>0</td>\n",
       "      <td>0</td>\n",
       "      <td>0</td>\n",
       "      <td>0</td>\n",
       "      <td>0</td>\n",
       "      <td>0</td>\n",
       "      <td>0</td>\n",
       "      <td>0</td>\n",
       "      <td>0</td>\n",
       "      <td>0</td>\n",
       "      <td>0</td>\n",
       "      <td>1</td>\n",
       "    </tr>\n",
       "    <tr>\n",
       "      <th>32</th>\n",
       "      <td>0</td>\n",
       "      <td>0</td>\n",
       "      <td>0</td>\n",
       "      <td>0</td>\n",
       "      <td>0</td>\n",
       "      <td>0</td>\n",
       "      <td>0</td>\n",
       "      <td>0</td>\n",
       "      <td>0</td>\n",
       "      <td>0</td>\n",
       "      <td>0</td>\n",
       "      <td>0</td>\n",
       "      <td>0</td>\n",
       "      <td>0</td>\n",
       "      <td>0</td>\n",
       "      <td>0</td>\n",
       "      <td>0</td>\n",
       "      <td>1</td>\n",
       "    </tr>\n",
       "    <tr>\n",
       "      <th>60</th>\n",
       "      <td>0</td>\n",
       "      <td>0</td>\n",
       "      <td>0</td>\n",
       "      <td>0</td>\n",
       "      <td>0</td>\n",
       "      <td>0</td>\n",
       "      <td>0</td>\n",
       "      <td>0</td>\n",
       "      <td>0</td>\n",
       "      <td>0</td>\n",
       "      <td>0</td>\n",
       "      <td>0</td>\n",
       "      <td>0</td>\n",
       "      <td>0</td>\n",
       "      <td>0</td>\n",
       "      <td>0</td>\n",
       "      <td>0</td>\n",
       "      <td>1</td>\n",
       "    </tr>\n",
       "    <tr>\n",
       "      <th>61</th>\n",
       "      <td>0</td>\n",
       "      <td>0</td>\n",
       "      <td>0</td>\n",
       "      <td>0</td>\n",
       "      <td>0</td>\n",
       "      <td>0</td>\n",
       "      <td>0</td>\n",
       "      <td>0</td>\n",
       "      <td>0</td>\n",
       "      <td>0</td>\n",
       "      <td>0</td>\n",
       "      <td>0</td>\n",
       "      <td>0</td>\n",
       "      <td>0</td>\n",
       "      <td>0</td>\n",
       "      <td>0</td>\n",
       "      <td>0</td>\n",
       "      <td>1</td>\n",
       "    </tr>\n",
       "    <tr>\n",
       "      <th>62</th>\n",
       "      <td>0</td>\n",
       "      <td>0</td>\n",
       "      <td>0</td>\n",
       "      <td>0</td>\n",
       "      <td>0</td>\n",
       "      <td>0</td>\n",
       "      <td>0</td>\n",
       "      <td>0</td>\n",
       "      <td>0</td>\n",
       "      <td>0</td>\n",
       "      <td>0</td>\n",
       "      <td>0</td>\n",
       "      <td>0</td>\n",
       "      <td>0</td>\n",
       "      <td>0</td>\n",
       "      <td>0</td>\n",
       "      <td>0</td>\n",
       "      <td>1</td>\n",
       "    </tr>\n",
       "  </tbody>\n",
       "</table>\n",
       "</div>"
      ],
      "text/plain": [
       "    Covaxin, Oxford/AstraZeneca  \\\n",
       "31                            0   \n",
       "32                            0   \n",
       "60                            0   \n",
       "61                            0   \n",
       "62                            0   \n",
       "\n",
       "    Moderna, Oxford/AstraZeneca, Pfizer/BioNTech  \\\n",
       "31                                             0   \n",
       "32                                             0   \n",
       "60                                             0   \n",
       "61                                             0   \n",
       "62                                             0   \n",
       "\n",
       "    Moderna, Pfizer/BioNTech  Oxford/AstraZeneca  \\\n",
       "31                         0                   0   \n",
       "32                         0                   0   \n",
       "60                         0                   0   \n",
       "61                         0                   0   \n",
       "62                         0                   0   \n",
       "\n",
       "    Oxford/AstraZeneca, Pfizer/BioNTech  \\\n",
       "31                                    0   \n",
       "32                                    0   \n",
       "60                                    0   \n",
       "61                                    0   \n",
       "62                                    0   \n",
       "\n",
       "    Oxford/AstraZeneca, Pfizer/BioNTech, Sinopharm/Beijing, Sinopharm/Wuhan, Sputnik V  \\\n",
       "31                                                  0                                    \n",
       "32                                                  0                                    \n",
       "60                                                  0                                    \n",
       "61                                                  0                                    \n",
       "62                                                  0                                    \n",
       "\n",
       "    Oxford/AstraZeneca, Sinopharm/Beijing  \\\n",
       "31                                      0   \n",
       "32                                      0   \n",
       "60                                      0   \n",
       "61                                      0   \n",
       "62                                      0   \n",
       "\n",
       "    Oxford/AstraZeneca, Sinopharm/Beijing, Sputnik V  \\\n",
       "31                                                 0   \n",
       "32                                                 0   \n",
       "60                                                 0   \n",
       "61                                                 0   \n",
       "62                                                 0   \n",
       "\n",
       "    Oxford/AstraZeneca, Sinovac  Oxford/AstraZeneca, Sputnik V  \\\n",
       "31                            0                              0   \n",
       "32                            0                              0   \n",
       "60                            0                              0   \n",
       "61                            0                              0   \n",
       "62                            0                              0   \n",
       "\n",
       "    Pfizer/BioNTech  Pfizer/BioNTech, Sinopharm/Beijing  \\\n",
       "31                0                                   0   \n",
       "32                0                                   0   \n",
       "60                0                                   0   \n",
       "61                0                                   0   \n",
       "62                0                                   0   \n",
       "\n",
       "    Pfizer/BioNTech, Sinopharm/Beijing, Sputnik V  \\\n",
       "31                                              0   \n",
       "32                                              0   \n",
       "60                                              0   \n",
       "61                                              0   \n",
       "62                                              0   \n",
       "\n",
       "    Pfizer/BioNTech, Sinovac  Sinopharm/Beijing  \\\n",
       "31                         0                  0   \n",
       "32                         0                  0   \n",
       "60                         0                  0   \n",
       "61                         0                  0   \n",
       "62                         0                  0   \n",
       "\n",
       "    Sinopharm/Beijing, Sinopharm/Wuhan, Sinovac  Sinovac  Sputnik V  \n",
       "31                                            0        0          1  \n",
       "32                                            0        0          1  \n",
       "60                                            0        0          1  \n",
       "61                                            0        0          1  \n",
       "62                                            0        0          1  "
      ]
     },
     "execution_count": 30,
     "metadata": {},
     "output_type": "execute_result"
    }
   ],
   "source": [
    "vaccines_oh[vaccines_oh[\"Sputnik V\"] == 1].head()"
   ]
  },
  {
   "cell_type": "code",
   "execution_count": 37,
   "metadata": {
    "pycharm": {
     "name": "#%%\n"
    }
   },
   "outputs": [
    {
     "name": "stderr",
     "output_type": "stream",
     "text": [
      "/Users/ding/opt/anaconda3/lib/python3.8/site-packages/seaborn/distributions.py:2551: FutureWarning: `distplot` is a deprecated function and will be removed in a future version. Please adapt your code to use either `displot` (a figure-level function with similar flexibility) or `histplot` (an axes-level function for histograms).\n",
      "  warnings.warn(msg, FutureWarning)\n"
     ]
    },
    {
     "data": {
      "image/png": "[encoded data removed]",
      "text/plain": [
       "<Figure size 432x288 with 1 Axes>"
      ]
     },
     "metadata": {
      "needs_background": "light"
     },
     "output_type": "display_data"
    }
   ],
   "source": [
    "mm = sklearn.preprocessing.MinMaxScaler()    # Масштабирование данных\n",
    "sns.distplot(mm.fit_transform(data[[\"people_fully_vaccinated_per_hundred\"]]));"
   ]
  },
  {
   "cell_type": "code",
   "execution_count": null,
   "metadata": {
    "pycharm": {
     "name": "#%%\n"
    }
   },
   "outputs": [],
   "source": []
  },
  {
   "cell_type": "code",
   "execution_count": 38,
   "metadata": {
    "pycharm": {
     "name": "#%%\n"
    }
   },
   "outputs": [
    {
     "name": "stderr",
     "output_type": "stream",
     "text": [
      "/Users/ding/opt/anaconda3/lib/python3.8/site-packages/seaborn/distributions.py:2551: FutureWarning: `distplot` is a deprecated function and will be removed in a future version. Please adapt your code to use either `displot` (a figure-level function with similar flexibility) or `histplot` (an axes-level function for histograms).\n",
      "  warnings.warn(msg, FutureWarning)\n"
     ]
    },
    {
     "data": {
      "image/png": "[encoded data removed]",
      "text/plain": [
       "<Figure size 432x288 with 1 Axes>"
      ]
     },
     "metadata": {
      "needs_background": "light"
     },
     "output_type": "display_data"
    }
   ],
   "source": [
    "ss = sklearn.preprocessing.StandardScaler()\n",
    "sns.distplot(ss.fit_transform(data[[\"people_fully_vaccinated_per_hundred\"]]));"
   ]
  },
  {
   "cell_type": "code",
   "execution_count": null,
   "metadata": {
    "pycharm": {
     "name": "#%%\n"
    }
   },
   "outputs": [],
   "source": []
  }
 ],
 "metadata": {
  "kernelspec": {
   "display_name": "Python 3",
   "language": "python",
   "name": "python3"
  },
  "language_info": {
   "codemirror_mode": {
    "name": "ipython",
    "version": 3
   },
   "file_extension": ".py",
   "mimetype": "text/x-python",
   "name": "python",
   "nbconvert_exporter": "python",
   "pygments_lexer": "ipython3",
   "version": "3.8.5"
  }
 },
 "nbformat": 4,
 "nbformat_minor": 4
}