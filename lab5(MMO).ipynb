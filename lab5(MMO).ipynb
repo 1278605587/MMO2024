{
 "nbformat": 4,
 "nbformat_minor": 0,
 "metadata": {
  "colab": {
   "name": "lab5(MMO).ipynb",
   "provenance": [],
   "collapsed_sections": [],
   "mount_file_id": "1wNbXxRQXwt6EnkyDXpuPGs2BCmdDg3xW",
   "authorship_tag": "ABX9TyN5X86s3Q5en2JYdjUglY5V"
  },
  "kernelspec": {
   "name": "python3",
   "display_name": "Python 3"
  },
  "language_info": {
   "name": "python"
  },
  "accelerator": "GPU"
 },
 "cells": [
  {
   "cell_type": "code",
   "metadata": {
    "colab": {
     "base_uri": "https://localhost:8080/",
     "height": 555
    },
    "id": "ecUVKGLrP4tf",
    "executionInfo": {
     "status": "ok",
     "timestamp": 1621972690479,
     "user_tz": -180,
     "elapsed": 3582,
     "user": {
      "displayName": "丁诺",
      "photoUrl": "",
      "userId": "16957255556963902479"
     }
    },
    "outputId": "3ab0e4a0-f77c-4bea-93fd-ffdd18c08b6e",
    "pycharm": {
     "name": "#%%\n"
    }
   },
   "source": [
    "import numpy as np \n",
    "import pandas as pd \n",
    "import os\n",
    "\n",
    "df1=pd.read_csv('/content/drive/MyDrive/fake_and_real_news/Fake.csv')\n",
    "df2=pd.read_csv('/content/drive/MyDrive/fake_and_real_news/True.csv')\n",
    "df1['Target']=1\n",
    "df2['Target']=0\n",
    "df=pd.concat([df1,df2],axis=0)\n",
    "df['original'] = df['text'] + ' ' + df['title']\n",
    "df"
   ],
   "execution_count": null,
   "outputs": [
    {
     "output_type": "execute_result",
     "data": {
      "text/html": [
       "<div>\n",
       "<style scoped>\n",
       "    .dataframe tbody tr th:only-of-type {\n",
       "        vertical-align: middle;\n",
       "    }\n",
       "\n",
       "    .dataframe tbody tr th {\n",
       "        vertical-align: top;\n",
       "    }\n",
       "\n",
       "    .dataframe thead th {\n",
       "        text-align: right;\n",
       "    }\n",
       "</style>\n",
       "<table border=\"1\" class=\"dataframe\">\n",
       "  <thead>\n",
       "    <tr style=\"text-align: right;\">\n",
       "      <th></th>\n",
       "      <th>title</th>\n",
       "      <th>text</th>\n",
       "      <th>subject</th>\n",
       "      <th>date</th>\n",
       "      <th>Target</th>\n",
       "      <th>original</th>\n",
       "    </tr>\n",
       "  </thead>\n",
       "  <tbody>\n",
       "    <tr>\n",
       "      <th>0</th>\n",
       "      <td>Donald Trump Sends Out Embarrassing New Year’...</td>\n",
       "      <td>Donald Trump just couldn t wish all Americans ...</td>\n",
       "      <td>News</td>\n",
       "      <td>December 31, 2017</td>\n",
       "      <td>1</td>\n",
       "      <td>Donald Trump just couldn t wish all Americans ...</td>\n",
       "    </tr>\n",
       "    <tr>\n",
       "      <th>1</th>\n",
       "      <td>Drunk Bragging Trump Staffer Started Russian ...</td>\n",
       "      <td>House Intelligence Committee Chairman Devin Nu...</td>\n",
       "      <td>News</td>\n",
       "      <td>December 31, 2017</td>\n",
       "      <td>1</td>\n",
       "      <td>House Intelligence Committee Chairman Devin Nu...</td>\n",
       "    </tr>\n",
       "    <tr>\n",
       "      <th>2</th>\n",
       "      <td>Sheriff David Clarke Becomes An Internet Joke...</td>\n",
       "      <td>On Friday, it was revealed that former Milwauk...</td>\n",
       "      <td>News</td>\n",
       "      <td>December 30, 2017</td>\n",
       "      <td>1</td>\n",
       "      <td>On Friday, it was revealed that former Milwauk...</td>\n",
       "    </tr>\n",
       "    <tr>\n",
       "      <th>3</th>\n",
       "      <td>Trump Is So Obsessed He Even Has Obama’s Name...</td>\n",
       "      <td>On Christmas day, Donald Trump announced that ...</td>\n",
       "      <td>News</td>\n",
       "      <td>December 29, 2017</td>\n",
       "      <td>1</td>\n",
       "      <td>On Christmas day, Donald Trump announced that ...</td>\n",
       "    </tr>\n",
       "    <tr>\n",
       "      <th>4</th>\n",
       "      <td>Pope Francis Just Called Out Donald Trump Dur...</td>\n",
       "      <td>Pope Francis used his annual Christmas Day mes...</td>\n",
       "      <td>News</td>\n",
       "      <td>December 25, 2017</td>\n",
       "      <td>1</td>\n",
       "      <td>Pope Francis used his annual Christmas Day mes...</td>\n",
       "    </tr>\n",
       "    <tr>\n",
       "      <th>...</th>\n",
       "      <td>...</td>\n",
       "      <td>...</td>\n",
       "      <td>...</td>\n",
       "      <td>...</td>\n",
       "      <td>...</td>\n",
       "      <td>...</td>\n",
       "    </tr>\n",
       "    <tr>\n",
       "      <th>21412</th>\n",
       "      <td>'Fully committed' NATO backs new U.S. approach...</td>\n",
       "      <td>BRUSSELS (Reuters) - NATO allies on Tuesday we...</td>\n",
       "      <td>worldnews</td>\n",
       "      <td>August 22, 2017</td>\n",
       "      <td>0</td>\n",
       "      <td>BRUSSELS (Reuters) - NATO allies on Tuesday we...</td>\n",
       "    </tr>\n",
       "    <tr>\n",
       "      <th>21413</th>\n",
       "      <td>LexisNexis withdrew two products from Chinese ...</td>\n",
       "      <td>LONDON (Reuters) - LexisNexis, a provider of l...</td>\n",
       "      <td>worldnews</td>\n",
       "      <td>August 22, 2017</td>\n",
       "      <td>0</td>\n",
       "      <td>LONDON (Reuters) - LexisNexis, a provider of l...</td>\n",
       "    </tr>\n",
       "    <tr>\n",
       "      <th>21414</th>\n",
       "      <td>Minsk cultural hub becomes haven from authorities</td>\n",
       "      <td>MINSK (Reuters) - In the shadow of disused Sov...</td>\n",
       "      <td>worldnews</td>\n",
       "      <td>August 22, 2017</td>\n",
       "      <td>0</td>\n",
       "      <td>MINSK (Reuters) - In the shadow of disused Sov...</td>\n",
       "    </tr>\n",
       "    <tr>\n",
       "      <th>21415</th>\n",
       "      <td>Vatican upbeat on possibility of Pope Francis ...</td>\n",
       "      <td>MOSCOW (Reuters) - Vatican Secretary of State ...</td>\n",
       "      <td>worldnews</td>\n",
       "      <td>August 22, 2017</td>\n",
       "      <td>0</td>\n",
       "      <td>MOSCOW (Reuters) - Vatican Secretary of State ...</td>\n",
       "    </tr>\n",
       "    <tr>\n",
       "      <th>21416</th>\n",
       "      <td>Indonesia to buy $1.14 billion worth of Russia...</td>\n",
       "      <td>JAKARTA (Reuters) - Indonesia will buy 11 Sukh...</td>\n",
       "      <td>worldnews</td>\n",
       "      <td>August 22, 2017</td>\n",
       "      <td>0</td>\n",
       "      <td>JAKARTA (Reuters) - Indonesia will buy 11 Sukh...</td>\n",
       "    </tr>\n",
       "  </tbody>\n",
       "</table>\n",
       "<p>44898 rows × 6 columns</p>\n",
       "</div>"
      ],
      "text/plain": [
       "                                                   title  ...                                           original\n",
       "0       Donald Trump Sends Out Embarrassing New Year’...  ...  Donald Trump just couldn t wish all Americans ...\n",
       "1       Drunk Bragging Trump Staffer Started Russian ...  ...  House Intelligence Committee Chairman Devin Nu...\n",
       "2       Sheriff David Clarke Becomes An Internet Joke...  ...  On Friday, it was revealed that former Milwauk...\n",
       "3       Trump Is So Obsessed He Even Has Obama’s Name...  ...  On Christmas day, Donald Trump announced that ...\n",
       "4       Pope Francis Just Called Out Donald Trump Dur...  ...  Pope Francis used his annual Christmas Day mes...\n",
       "...                                                  ...  ...                                                ...\n",
       "21412  'Fully committed' NATO backs new U.S. approach...  ...  BRUSSELS (Reuters) - NATO allies on Tuesday we...\n",
       "21413  LexisNexis withdrew two products from Chinese ...  ...  LONDON (Reuters) - LexisNexis, a provider of l...\n",
       "21414  Minsk cultural hub becomes haven from authorities  ...  MINSK (Reuters) - In the shadow of disused Sov...\n",
       "21415  Vatican upbeat on possibility of Pope Francis ...  ...  MOSCOW (Reuters) - Vatican Secretary of State ...\n",
       "21416  Indonesia to buy $1.14 billion worth of Russia...  ...  JAKARTA (Reuters) - Indonesia will buy 11 Sukh...\n",
       "\n",
       "[44898 rows x 6 columns]"
      ]
     },
     "metadata": {
      "tags": []
     },
     "execution_count": 4
    }
   ]
  },
  {
   "cell_type": "code",
   "metadata": {
    "colab": {
     "base_uri": "https://localhost:8080/",
     "height": 419
    },
    "id": "NaDPmnUWQNNk",
    "executionInfo": {
     "status": "ok",
     "timestamp": 1621972692933,
     "user_tz": -180,
     "elapsed": 314,
     "user": {
      "displayName": "丁诺",
      "photoUrl": "",
      "userId": "16957255556963902479"
     }
    },
    "outputId": "f291d5d6-b12c-4ea9-fd3d-c5273c3ea3ec",
    "pycharm": {
     "name": "#%%\n"
    }
   },
   "source": [
    "df=df.drop(['title','subject','date'],axis=1)\n",
    "df"
   ],
   "execution_count": null,
   "outputs": [
    {
     "output_type": "execute_result",
     "data": {
      "text/html": [
       "<div>\n",
       "<style scoped>\n",
       "    .dataframe tbody tr th:only-of-type {\n",
       "        vertical-align: middle;\n",
       "    }\n",
       "\n",
       "    .dataframe tbody tr th {\n",
       "        vertical-align: top;\n",
       "    }\n",
       "\n",
       "    .dataframe thead th {\n",
       "        text-align: right;\n",
       "    }\n",
       "</style>\n",
       "<table border=\"1\" class=\"dataframe\">\n",
       "  <thead>\n",
       "    <tr style=\"text-align: right;\">\n",
       "      <th></th>\n",
       "      <th>text</th>\n",
       "      <th>Target</th>\n",
       "      <th>original</th>\n",
       "    </tr>\n",
       "  </thead>\n",
       "  <tbody>\n",
       "    <tr>\n",
       "      <th>0</th>\n",
       "      <td>Donald Trump just couldn t wish all Americans ...</td>\n",
       "      <td>1</td>\n",
       "      <td>Donald Trump just couldn t wish all Americans ...</td>\n",
       "    </tr>\n",
       "    <tr>\n",
       "      <th>1</th>\n",
       "      <td>House Intelligence Committee Chairman Devin Nu...</td>\n",
       "      <td>1</td>\n",
       "      <td>House Intelligence Committee Chairman Devin Nu...</td>\n",
       "    </tr>\n",
       "    <tr>\n",
       "      <th>2</th>\n",
       "      <td>On Friday, it was revealed that former Milwauk...</td>\n",
       "      <td>1</td>\n",
       "      <td>On Friday, it was revealed that former Milwauk...</td>\n",
       "    </tr>\n",
       "    <tr>\n",
       "      <th>3</th>\n",
       "      <td>On Christmas day, Donald Trump announced that ...</td>\n",
       "      <td>1</td>\n",
       "      <td>On Christmas day, Donald Trump announced that ...</td>\n",
       "    </tr>\n",
       "    <tr>\n",
       "      <th>4</th>\n",
       "      <td>Pope Francis used his annual Christmas Day mes...</td>\n",
       "      <td>1</td>\n",
       "      <td>Pope Francis used his annual Christmas Day mes...</td>\n",
       "    </tr>\n",
       "    <tr>\n",
       "      <th>...</th>\n",
       "      <td>...</td>\n",
       "      <td>...</td>\n",
       "      <td>...</td>\n",
       "    </tr>\n",
       "    <tr>\n",
       "      <th>21412</th>\n",
       "      <td>BRUSSELS (Reuters) - NATO allies on Tuesday we...</td>\n",
       "      <td>0</td>\n",
       "      <td>BRUSSELS (Reuters) - NATO allies on Tuesday we...</td>\n",
       "    </tr>\n",
       "    <tr>\n",
       "      <th>21413</th>\n",
       "      <td>LONDON (Reuters) - LexisNexis, a provider of l...</td>\n",
       "      <td>0</td>\n",
       "      <td>LONDON (Reuters) - LexisNexis, a provider of l...</td>\n",
       "    </tr>\n",
       "    <tr>\n",
       "      <th>21414</th>\n",
       "      <td>MINSK (Reuters) - In the shadow of disused Sov...</td>\n",
       "      <td>0</td>\n",
       "      <td>MINSK (Reuters) - In the shadow of disused Sov...</td>\n",
       "    </tr>\n",
       "    <tr>\n",
       "      <th>21415</th>\n",
       "      <td>MOSCOW (Reuters) - Vatican Secretary of State ...</td>\n",
       "      <td>0</td>\n",
       "      <td>MOSCOW (Reuters) - Vatican Secretary of State ...</td>\n",
       "    </tr>\n",
       "    <tr>\n",
       "      <th>21416</th>\n",
       "      <td>JAKARTA (Reuters) - Indonesia will buy 11 Sukh...</td>\n",
       "      <td>0</td>\n",
       "      <td>JAKARTA (Reuters) - Indonesia will buy 11 Sukh...</td>\n",
       "    </tr>\n",
       "  </tbody>\n",
       "</table>\n",
       "<p>44898 rows × 3 columns</p>\n",
       "</div>"
      ],
      "text/plain": [
       "                                                    text  ...                                           original\n",
       "0      Donald Trump just couldn t wish all Americans ...  ...  Donald Trump just couldn t wish all Americans ...\n",
       "1      House Intelligence Committee Chairman Devin Nu...  ...  House Intelligence Committee Chairman Devin Nu...\n",
       "2      On Friday, it was revealed that former Milwauk...  ...  On Friday, it was revealed that former Milwauk...\n",
       "3      On Christmas day, Donald Trump announced that ...  ...  On Christmas day, Donald Trump announced that ...\n",
       "4      Pope Francis used his annual Christmas Day mes...  ...  Pope Francis used his annual Christmas Day mes...\n",
       "...                                                  ...  ...                                                ...\n",
       "21412  BRUSSELS (Reuters) - NATO allies on Tuesday we...  ...  BRUSSELS (Reuters) - NATO allies on Tuesday we...\n",
       "21413  LONDON (Reuters) - LexisNexis, a provider of l...  ...  LONDON (Reuters) - LexisNexis, a provider of l...\n",
       "21414  MINSK (Reuters) - In the shadow of disused Sov...  ...  MINSK (Reuters) - In the shadow of disused Sov...\n",
       "21415  MOSCOW (Reuters) - Vatican Secretary of State ...  ...  MOSCOW (Reuters) - Vatican Secretary of State ...\n",
       "21416  JAKARTA (Reuters) - Indonesia will buy 11 Sukh...  ...  JAKARTA (Reuters) - Indonesia will buy 11 Sukh...\n",
       "\n",
       "[44898 rows x 3 columns]"
      ]
     },
     "metadata": {
      "tags": []
     },
     "execution_count": 5
    }
   ]
  },
  {
   "cell_type": "code",
   "metadata": {
    "colab": {
     "base_uri": "https://localhost:8080/",
     "height": 453
    },
    "id": "yuAZaJz9QGUO",
    "executionInfo": {
     "status": "ok",
     "timestamp": 1621972698645,
     "user_tz": -180,
     "elapsed": 2895,
     "user": {
      "displayName": "丁诺",
      "photoUrl": "",
      "userId": "16957255556963902479"
     }
    },
    "outputId": "8b183b78-33c8-433b-b96b-40d17acd3660",
    "pycharm": {
     "name": "#%%\n"
    }
   },
   "source": [
    "import nltk\n",
    "nltk.download('wordnet')\n",
    "from nltk.stem import PorterStemmer\n",
    "from nltk.tokenize import sent_tokenize, word_tokenize\n",
    "import re\n",
    "import string\n",
    "from keras.preprocessing.text import Tokenizer\n",
    "from nltk.stem import WordNetLemmatizer\n",
    "\n",
    "def custom_preprocessor(text):\n",
    "    text = text.lower()\n",
    "    text = re.sub('\\[.*?\\]', '', text)\n",
    "    text = re.sub(\"\\\\W\",\" \",text) \n",
    "    text = re.sub('https?://\\S+|www\\.\\S+', '', text)\n",
    "    text = re.sub('<.*?>+', '', text)\n",
    "    text = re.sub('[%s]' % re.escape(string.punctuation), '', text)\n",
    "    text = re.sub('\\n', '', text)\n",
    "    text = re.sub('\\w*\\d\\w*', '', text)\n",
    "    return text\n",
    "\n",
    "df"
   ],
   "execution_count": null,
   "outputs": [
    {
     "output_type": "stream",
     "text": [
      "[nltk_data] Downloading package wordnet to /root/nltk_data...\n",
      "[nltk_data]   Unzipping corpora/wordnet.zip.\n"
     ],
     "name": "stdout"
    },
    {
     "output_type": "execute_result",
     "data": {
      "text/html": [
       "<div>\n",
       "<style scoped>\n",
       "    .dataframe tbody tr th:only-of-type {\n",
       "        vertical-align: middle;\n",
       "    }\n",
       "\n",
       "    .dataframe tbody tr th {\n",
       "        vertical-align: top;\n",
       "    }\n",
       "\n",
       "    .dataframe thead th {\n",
       "        text-align: right;\n",
       "    }\n",
       "</style>\n",
       "<table border=\"1\" class=\"dataframe\">\n",
       "  <thead>\n",
       "    <tr style=\"text-align: right;\">\n",
       "      <th></th>\n",
       "      <th>text</th>\n",
       "      <th>Target</th>\n",
       "      <th>original</th>\n",
       "    </tr>\n",
       "  </thead>\n",
       "  <tbody>\n",
       "    <tr>\n",
       "      <th>0</th>\n",
       "      <td>Donald Trump just couldn t wish all Americans ...</td>\n",
       "      <td>1</td>\n",
       "      <td>Donald Trump just couldn t wish all Americans ...</td>\n",
       "    </tr>\n",
       "    <tr>\n",
       "      <th>1</th>\n",
       "      <td>House Intelligence Committee Chairman Devin Nu...</td>\n",
       "      <td>1</td>\n",
       "      <td>House Intelligence Committee Chairman Devin Nu...</td>\n",
       "    </tr>\n",
       "    <tr>\n",
       "      <th>2</th>\n",
       "      <td>On Friday, it was revealed that former Milwauk...</td>\n",
       "      <td>1</td>\n",
       "      <td>On Friday, it was revealed that former Milwauk...</td>\n",
       "    </tr>\n",
       "    <tr>\n",
       "      <th>3</th>\n",
       "      <td>On Christmas day, Donald Trump announced that ...</td>\n",
       "      <td>1</td>\n",
       "      <td>On Christmas day, Donald Trump announced that ...</td>\n",
       "    </tr>\n",
       "    <tr>\n",
       "      <th>4</th>\n",
       "      <td>Pope Francis used his annual Christmas Day mes...</td>\n",
       "      <td>1</td>\n",
       "      <td>Pope Francis used his annual Christmas Day mes...</td>\n",
       "    </tr>\n",
       "    <tr>\n",
       "      <th>...</th>\n",
       "      <td>...</td>\n",
       "      <td>...</td>\n",
       "      <td>...</td>\n",
       "    </tr>\n",
       "    <tr>\n",
       "      <th>21412</th>\n",
       "      <td>BRUSSELS (Reuters) - NATO allies on Tuesday we...</td>\n",
       "      <td>0</td>\n",
       "      <td>BRUSSELS (Reuters) - NATO allies on Tuesday we...</td>\n",
       "    </tr>\n",
       "    <tr>\n",
       "      <th>21413</th>\n",
       "      <td>LONDON (Reuters) - LexisNexis, a provider of l...</td>\n",
       "      <td>0</td>\n",
       "      <td>LONDON (Reuters) - LexisNexis, a provider of l...</td>\n",
       "    </tr>\n",
       "    <tr>\n",
       "      <th>21414</th>\n",
       "      <td>MINSK (Reuters) - In the shadow of disused Sov...</td>\n",
       "      <td>0</td>\n",
       "      <td>MINSK (Reuters) - In the shadow of disused Sov...</td>\n",
       "    </tr>\n",
       "    <tr>\n",
       "      <th>21415</th>\n",
       "      <td>MOSCOW (Reuters) - Vatican Secretary of State ...</td>\n",
       "      <td>0</td>\n",
       "      <td>MOSCOW (Reuters) - Vatican Secretary of State ...</td>\n",
       "    </tr>\n",
       "    <tr>\n",
       "      <th>21416</th>\n",
       "      <td>JAKARTA (Reuters) - Indonesia will buy 11 Sukh...</td>\n",
       "      <td>0</td>\n",
       "      <td>JAKARTA (Reuters) - Indonesia will buy 11 Sukh...</td>\n",
       "    </tr>\n",
       "  </tbody>\n",
       "</table>\n",
       "<p>44898 rows × 3 columns</p>\n",
       "</div>"
      ],
      "text/plain": [
       "                                                    text  ...                                           original\n",
       "0      Donald Trump just couldn t wish all Americans ...  ...  Donald Trump just couldn t wish all Americans ...\n",
       "1      House Intelligence Committee Chairman Devin Nu...  ...  House Intelligence Committee Chairman Devin Nu...\n",
       "2      On Friday, it was revealed that former Milwauk...  ...  On Friday, it was revealed that former Milwauk...\n",
       "3      On Christmas day, Donald Trump announced that ...  ...  On Christmas day, Donald Trump announced that ...\n",
       "4      Pope Francis used his annual Christmas Day mes...  ...  Pope Francis used his annual Christmas Day mes...\n",
       "...                                                  ...  ...                                                ...\n",
       "21412  BRUSSELS (Reuters) - NATO allies on Tuesday we...  ...  BRUSSELS (Reuters) - NATO allies on Tuesday we...\n",
       "21413  LONDON (Reuters) - LexisNexis, a provider of l...  ...  LONDON (Reuters) - LexisNexis, a provider of l...\n",
       "21414  MINSK (Reuters) - In the shadow of disused Sov...  ...  MINSK (Reuters) - In the shadow of disused Sov...\n",
       "21415  MOSCOW (Reuters) - Vatican Secretary of State ...  ...  MOSCOW (Reuters) - Vatican Secretary of State ...\n",
       "21416  JAKARTA (Reuters) - Indonesia will buy 11 Sukh...  ...  JAKARTA (Reuters) - Indonesia will buy 11 Sukh...\n",
       "\n",
       "[44898 rows x 3 columns]"
      ]
     },
     "metadata": {
      "tags": []
     },
     "execution_count": 6
    }
   ]
  },
  {
   "cell_type": "code",
   "metadata": {
    "colab": {
     "base_uri": "https://localhost:8080/"
    },
    "id": "8CDpFv6E5DLl",
    "executionInfo": {
     "status": "ok",
     "timestamp": 1621972781373,
     "user_tz": -180,
     "elapsed": 80990,
     "user": {
      "displayName": "丁诺",
      "photoUrl": "",
      "userId": "16957255556963902479"
     }
    },
    "outputId": "e1c160c3-f976-49ef-c8e1-7ea11ed96454",
    "pycharm": {
     "name": "#%%\n"
    }
   },
   "source": [
    "lemmatizer = WordNetLemmatizer()\n",
    "\n",
    "def lemmatization(text):\n",
    "    lemmas = []\n",
    "    for word in text.split():\n",
    "        lemmas.append(lemmatizer.lemmatize(word))\n",
    "    return \" \".join(lemmas)\n",
    "\n",
    "df['text']=df['text'].apply(custom_preprocessor)\n",
    "df['original'].apply(lemmatization)"
   ],
   "execution_count": null,
   "outputs": [
    {
     "output_type": "execute_result",
     "data": {
      "text/plain": [
       "0        Donald Trump just couldn t wish all Americans ...\n",
       "1        House Intelligence Committee Chairman Devin Nu...\n",
       "2        On Friday, it wa revealed that former Milwauke...\n",
       "3        On Christmas day, Donald Trump announced that ...\n",
       "4        Pope Francis used his annual Christmas Day mes...\n",
       "                               ...                        \n",
       "21412    BRUSSELS (Reuters) - NATO ally on Tuesday welc...\n",
       "21413    LONDON (Reuters) - LexisNexis, a provider of l...\n",
       "21414    MINSK (Reuters) - In the shadow of disused Sov...\n",
       "21415    MOSCOW (Reuters) - Vatican Secretary of State ...\n",
       "21416    JAKARTA (Reuters) - Indonesia will buy 11 Sukh...\n",
       "Name: original, Length: 44898, dtype: object"
      ]
     },
     "metadata": {
      "tags": []
     },
     "execution_count": 7
    }
   ]
  },
  {
   "cell_type": "code",
   "metadata": {
    "colab": {
     "base_uri": "https://localhost:8080/"
    },
    "id": "NeSATv-JvPQO",
    "executionInfo": {
     "status": "ok",
     "timestamp": 1621973514480,
     "user_tz": -180,
     "elapsed": 13893,
     "user": {
      "displayName": "丁诺",
      "photoUrl": "",
      "userId": "16957255556963902479"
     }
    },
    "outputId": "df5ba30d-e209-4b55-9922-fd6ae2692c68",
    "pycharm": {
     "name": "#%%\n"
    }
   },
   "source": [
    "from sklearn.model_selection import train_test_split\n",
    "from sklearn.linear_model import LogisticRegression\n",
    "from sklearn.metrics import accuracy_score\n",
    "from sklearn.feature_extraction.text import TfidfVectorizer\n",
    "\n",
    "y=df['Target']\n",
    "x=df['text']\n",
    "x_train,x_test,y_train,y_test=train_test_split(x,y,random_state=0,test_size=0.2)\n",
    "\n",
    "vectorizer = TfidfVectorizer()\n",
    "x_trn_vec = vectorizer.fit_transform(x_train)\n",
    "model_1=LogisticRegression()\n",
    "model_1.fit(x_trn_vec,y_train)\n",
    "\n",
    "pred_1=model_1.predict(vectorizer.transform(x_test))\n",
    "score_1=accuracy_score(y_test,pred_1)\n",
    "score_1"
   ],
   "execution_count": null,
   "outputs": [
    {
     "output_type": "execute_result",
     "data": {
      "text/plain": [
       "0.9868596881959911"
      ]
     },
     "metadata": {
      "tags": []
     },
     "execution_count": 17
    }
   ]
  }
 ]
}